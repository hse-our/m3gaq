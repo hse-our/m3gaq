{
  "nbformat": 4,
  "nbformat_minor": 0,
  "metadata": {
    "colab": {
      "provenance": []
    },
    "kernelspec": {
      "name": "python3",
      "display_name": "Python 3"
    },
    "language_info": {
      "name": "python"
    }
  },
  "cells": [
    {
      "cell_type": "code",
      "execution_count": 36,
      "metadata": {
        "id": "6EWl7BAhxUTj"
      },
      "outputs": [],
      "source": [
        "import pandas as pd \n",
        "import plotly.graph_objects as go\n",
        "import random\n",
        "df = pd.read_csv('https://raw.githubusercontent.com/m3gaq/finodays_mkb/main/data/table_v5.zip')"
      ]
    },
    {
      "cell_type": "markdown",
      "source": [
        "Лояльность клиента"
      ],
      "metadata": {
        "id": "ov7Ifv26ocbe"
      }
    },
    {
      "cell_type": "code",
      "source": [
        "contain_values_create = df[df['url_end'].str.contains('create')]\n",
        "contain_values_confirm = df[df['url_end'].str.contains('confirm')]"
      ],
      "metadata": {
        "id": "-caApmC4oUcw"
      },
      "execution_count": 37,
      "outputs": []
    },
    {
      "cell_type": "code",
      "source": [
        "df1 = contain_values_create.groupby(['url_end']).size().reset_index(name='counts')\n",
        "df1['url_end'] = df1['url_end'].str.split('/').str[0]\n",
        "df2 = contain_values_confirm.groupby(['url_end']).size().reset_index(name='counts')\n",
        "df2['url_end'] = df2['url_end'].str.split('/').str[0]\n",
        "df_merge = pd.merge(df1, df2, left_on = 'url_end', right_on = 'url_end')\n",
        "df_merge['metrics'] = 100 * df_merge['counts_y'] / df_merge['counts_x']\n",
        "df_merge[df_merge['metrics'] < 100].mean()"
      ],
      "metadata": {
        "colab": {
          "base_uri": "https://localhost:8080/"
        },
        "id": "UCSYquuwsqt0",
        "outputId": "e88d4c8d-4943-491a-c3c0-9aa4f3b074bd"
      },
      "execution_count": 38,
      "outputs": [
        {
          "output_type": "stream",
          "name": "stderr",
          "text": [
            "/usr/local/lib/python3.7/dist-packages/ipykernel_launcher.py:7: FutureWarning: Dropping of nuisance columns in DataFrame reductions (with 'numeric_only=None') is deprecated; in a future version this will raise TypeError.  Select only valid columns before calling the reduction.\n",
            "  import sys\n"
          ]
        },
        {
          "output_type": "execute_result",
          "data": {
            "text/plain": [
              "counts_x    1073.431193\n",
              "counts_y     309.082569\n",
              "metrics       40.021555\n",
              "dtype: float64"
            ]
          },
          "metadata": {},
          "execution_count": 38
        }
      ]
    },
    {
      "cell_type": "markdown",
      "source": [
        "Показатель отказов"
      ],
      "metadata": {
        "id": "0ed0xjM_tAUl"
      }
    },
    {
      "cell_type": "code",
      "source": [
        "df_new = df.groupby(['url_end']).size().reset_index(name='counts')\n",
        "\n",
        "df_cl = df.groupby('url_end')['clientcode'].nunique().reset_index()\n",
        "df_cl1 = df.groupby(['url_end','clientcode']).size().reset_index().rename(columns={0: 'bar'})\n",
        "df_cl1 = df_cl1[df_cl1['bar'] == 1][['url_end', 'bar']]\n",
        "df_cl1_merge = pd.merge(df_cl,df_cl1, left_on = 'url_end', right_on = 'url_end')\n",
        "df_n = df_cl1_merge.drop_duplicates()\n",
        "df_n['balance_rate'] = 100 * df_n['bar']/df_n['clientcode']\n",
        "df_n['balance_rate'].mean()\n",
        "\n",
        "# df_new_cl = pd.merge(df, df_new, left_on = 'url_end', right_on = 'url_end')\n",
        "# df_new_cl_1 = df_new_cl[df_new_cl['counts'] <= 1]\n",
        "# df_single = df_new_cl_1.groupby('url_end')['clientcode'].nunique()\n",
        "# df_new_cl_12 = df_new_cl[df_new_cl['counts'] > 1]\n",
        "# df_single_no = df_new_cl_12.groupby('url_end')['clientcode'].nunique()\n",
        "# df_single"
      ],
      "metadata": {
        "colab": {
          "base_uri": "https://localhost:8080/"
        },
        "id": "JXxb2WkFtD73",
        "outputId": "70ff31e1-c04f-4de3-c6cc-da249fa80855"
      },
      "execution_count": 64,
      "outputs": [
        {
          "output_type": "stream",
          "name": "stderr",
          "text": [
            "/usr/local/lib/python3.7/dist-packages/ipykernel_launcher.py:8: SettingWithCopyWarning: \n",
            "A value is trying to be set on a copy of a slice from a DataFrame.\n",
            "Try using .loc[row_indexer,col_indexer] = value instead\n",
            "\n",
            "See the caveats in the documentation: https://pandas.pydata.org/pandas-docs/stable/user_guide/indexing.html#returning-a-view-versus-a-copy\n",
            "  \n"
          ]
        },
        {
          "output_type": "execute_result",
          "data": {
            "text/plain": [
              "9.469661116076729"
            ]
          },
          "metadata": {},
          "execution_count": 64
        }
      ]
    }
  ]
}