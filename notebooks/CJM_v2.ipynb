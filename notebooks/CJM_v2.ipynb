{
  "cells": [
    {
      "cell_type": "code",
      "execution_count": 267,
      "metadata": {
        "colab": {
          "base_uri": "https://localhost:8080/"
        },
        "id": "6EWl7BAhxUTj",
        "outputId": "1df5583f-1c71-458d-d44f-079a8d61b413"
      },
      "outputs": [
        {
          "data": {
            "text/plain": [
              "Index(['clientcode', 'time_stamp_start', 'useragent_start', 'url_start',\n",
              "       'url_end', 'time_stamp_end', 'useragent_end', 'diff', 'reload',\n",
              "       'start_flag', 'start_flag_num', 'process_flag_num', 'start_product'],\n",
              "      dtype='object')"
            ]
          },
          "execution_count": 267,
          "metadata": {},
          "output_type": "execute_result"
        }
      ],
      "source": [
        "import pandas as pd \n",
        "import random\n",
        "df = pd.read_csv('https://raw.githubusercontent.com/m3gaq/finodays_mkb/main/table_v2.zip')\n",
        "df.columns"
      ]
    },
    {
      "cell_type": "code",
      "execution_count": 188,
      "metadata": {
        "id": "KhPpU7SrGS_o"
      },
      "outputs": [],
      "source": [
        "df['clientcode'] = df['clientcode'].astype(int)\n",
        "randomlist = random.sample(list(df['clientcode']), 100)\n",
        "df_random = df[df['clientcode'].isin(randomlist)]"
      ]
    },
    {
      "cell_type": "code",
      "execution_count": 189,
      "metadata": {
        "id": "bquahdFG2fXu"
      },
      "outputs": [],
      "source": [
        "sources  = list(df_random.groupby(['url_start','url_end']).size().reset_index().rename(columns={0:'cnt_open'})['url_start'])\n",
        "targets = list(df_random.groupby(['url_start','url_end']).size().reset_index().rename(columns={0:'cnt_open'})['url_end'])\n",
        "cnt_open = list(df_random.groupby(['url_start','url_end']).size().reset_index().rename(columns={0:'cnt_open'})['cnt_open'])\n",
        "unique_pages = list(set(sources + targets))"
      ]
    },
    {
      "cell_type": "code",
      "execution_count": 190,
      "metadata": {
        "colab": {
          "base_uri": "https://localhost:8080/"
        },
        "id": "NWyGXQhT4F2b",
        "outputId": "6af4abe9-d4b9-4795-b59a-8506f646a695"
      },
      "outputs": [
        {
          "name": "stderr",
          "output_type": "stream",
          "text": [
            "/usr/local/lib/python3.7/dist-packages/ipykernel_launcher.py:3: SettingWithCopyWarning:\n",
            "\n",
            "\n",
            "A value is trying to be set on a copy of a slice from a DataFrame.\n",
            "Try using .loc[row_indexer,col_indexer] = value instead\n",
            "\n",
            "See the caveats in the documentation: https://pandas.pydata.org/pandas-docs/stable/user_guide/indexing.html#returning-a-view-versus-a-copy\n",
            "\n",
            "/usr/local/lib/python3.7/dist-packages/ipykernel_launcher.py:4: SettingWithCopyWarning:\n",
            "\n",
            "\n",
            "A value is trying to be set on a copy of a slice from a DataFrame.\n",
            "Try using .loc[row_indexer,col_indexer] = value instead\n",
            "\n",
            "See the caveats in the documentation: https://pandas.pydata.org/pandas-docs/stable/user_guide/indexing.html#returning-a-view-versus-a-copy\n",
            "\n"
          ]
        }
      ],
      "source": [
        "numbers = range(0, len(unique_pages))\n",
        "d = dict(zip(unique_pages, numbers))\n",
        "df_random['source_id'] = df_random['url_start'].map(d)\n",
        "df_random['target_id'] = df_random['url_end'].map(d)"
      ]
    },
    {
      "cell_type": "code",
      "execution_count": 191,
      "metadata": {
        "id": "yVJ2tX9ujfff"
      },
      "outputs": [],
      "source": [
        "incoming = []\n",
        "outcoming = []\n",
        "for i in unique_pages:\n",
        "  a = sources.count(i)\n",
        "  b = targets.count(i)\n",
        "  incoming.append(a)\n",
        "  outcoming.append(b)\n",
        "\n",
        "data = {'Pages': unique_pages,\n",
        "        'Incoming': incoming, \n",
        "        'Outcoming': outcoming }\n",
        "df_new = pd.DataFrame(data)\n",
        "pages_bad= list(df_new[df_new['Incoming'] == df_new['Outcoming']]['Pages'])"
      ]
    },
    {
      "cell_type": "code",
      "execution_count": 192,
      "metadata": {
        "colab": {
          "base_uri": "https://localhost:8080/"
        },
        "id": "dPnlnLCX1dP8",
        "outputId": "4b27838a-7cfe-45a0-b003-081c7b629f85"
      },
      "outputs": [
        {
          "name": "stderr",
          "output_type": "stream",
          "text": [
            "/usr/local/lib/python3.7/dist-packages/ipykernel_launcher.py:2: SettingWithCopyWarning:\n",
            "\n",
            "\n",
            "A value is trying to be set on a copy of a slice from a DataFrame.\n",
            "Try using .loc[row_indexer,col_indexer] = value instead\n",
            "\n",
            "See the caveats in the documentation: https://pandas.pydata.org/pandas-docs/stable/user_guide/indexing.html#returning-a-view-versus-a-copy\n",
            "\n",
            "/usr/local/lib/python3.7/dist-packages/ipykernel_launcher.py:3: SettingWithCopyWarning:\n",
            "\n",
            "\n",
            "A value is trying to be set on a copy of a slice from a DataFrame.\n",
            "Try using .loc[row_indexer,col_indexer] = value instead\n",
            "\n",
            "See the caveats in the documentation: https://pandas.pydata.org/pandas-docs/stable/user_guide/indexing.html#returning-a-view-versus-a-copy\n",
            "\n",
            "/usr/local/lib/python3.7/dist-packages/ipykernel_launcher.py:4: SettingWithCopyWarning:\n",
            "\n",
            "\n",
            "A value is trying to be set on a copy of a slice from a DataFrame.\n",
            "Try using .loc[row_indexer,col_indexer] = value instead\n",
            "\n",
            "See the caveats in the documentation: https://pandas.pydata.org/pandas-docs/stable/user_guide/indexing.html#returning-a-view-versus-a-copy\n",
            "\n",
            "/usr/local/lib/python3.7/dist-packages/ipykernel_launcher.py:5: SettingWithCopyWarning:\n",
            "\n",
            "\n",
            "A value is trying to be set on a copy of a slice from a DataFrame.\n",
            "Try using .loc[row_indexer,col_indexer] = value instead\n",
            "\n",
            "See the caveats in the documentation: https://pandas.pydata.org/pandas-docs/stable/user_guide/indexing.html#returning-a-view-versus-a-copy\n",
            "\n"
          ]
        }
      ],
      "source": [
        "import numpy as np\n",
        "df_random['GB1'] = np.where(df_random['url_start'].isin(pages_bad), 'bad', 'good')\n",
        "df_random['GB2'] = df_random['GB1'].shift(-1)\n",
        "df_random['url_end_shift'] = df_random['url_end'].shift(-1)\n",
        "df_random['url_end_copy'] = np.where(df_random['GB2'] == 'bad', df_random['url_end_shift'], df_random['url_end'])\n",
        "df_random = df_random[df_random['GB1'] != 'bad']"
      ]
    },
    {
      "cell_type": "code",
      "execution_count": null,
      "metadata": {
        "colab": {
          "base_uri": "https://localhost:8080/",
          "height": 542
        },
        "id": "albWsCs4xnKU",
        "outputId": "8d365b08-ba1e-4e7b-d7ef-6ce3b71a8d6e"
      },
      "outputs": [],
      "source": [
        "import plotly.graph_objects as go\n",
        "fig = go.Figure(data=[go.Sankey(\n",
        "    node = dict(\n",
        "      pad = 15,\n",
        "      thickness = 20,\n",
        "      line = dict(color = \"black\", width = 0.5),\n",
        "      label = list(d.keys()),\n",
        "      color = \"blue\"\n",
        "    ),\n",
        "    link = dict(\n",
        "      source = list(df_random['source_id']),\n",
        "      target = list(df_random['target_id']),\n",
        "      value = cnt_open\n",
        "  ))])\n",
        "\n",
        "fig.update_layout(title_text=\"Basic Sankey Diagram\", font_size=10)\n",
        "fig.show()"
      ]
    },
    {
      "cell_type": "code",
      "execution_count": 263,
      "metadata": {
        "id": "XYHhgTSFPSVD"
      },
      "outputs": [],
      "source": [
        "def get_metrics(df):\n",
        "    '''\n",
        "    return DataFrames:\n",
        "    metrics_node, metrics_relation \n",
        "    '''\n",
        "    df['time_stamp_start'] = pd.to_datetime(df.time_stamp_start)\n",
        "    df['time_stamp_end']   = pd.to_datetime(df.time_stamp_end)\n",
        "\n",
        "    metrics_relation = df.groupby(['url_start','url_end']).agg({'diff':['mean','max','min','sum','count'],'reload':['mean'], 'process_flag_num':['mean']})\n",
        "    metrics_relation.columns = [ '_'.join(col) for col in metrics_relation.columns]\n",
        "    metrics_relation = metrics_relation.rename(columns={'diff_count':'qty_rel_all','process_flag_num_mean':'process_order_mean','reload_mean':'is_reload'})\n",
        "    metrics_relation = metrics_relation.reset_index()\n",
        "\n",
        "    qty_all = df.groupby('url_start').count().rename(columns={'clientcode':'qty_all'})[['qty_all']]\n",
        "    qty_unique_user = df[['clientcode','url_start']].drop_duplicates().groupby('url_start').count().rename(columns={'clientcode':'qty_unique_user'})\n",
        "    qty_in = metrics_relation.reset_index().groupby('url_start').sum().rename(columns = {'qty_rel_all':'qty'})\n",
        "    qty_in.columns = qty_in.columns+'_in'\n",
        "    qty_out = metrics_relation.reset_index().groupby('url_end').sum().rename(columns = {'qty_rel_all':'qty'})\n",
        "    qty_out.columns = qty_out.columns+'_out'\n",
        "\n",
        "    metrics_node = pd.merge(qty_all,qty_unique_user,left_index=True, right_index=True, how = 'left')\n",
        "    metrics_node = pd.merge(metrics_node,qty_in,left_index=True, right_index=True, how = 'left')\n",
        "    metrics_node = pd.merge(metrics_node,qty_out,left_index=True, right_index=True, how = 'left')\n",
        "    metrics_node['qty_in_out_ratio'] = metrics_node.qty_in/metrics_node.qty_out\n",
        "    metrics_node = metrics_node.reset_index()\n",
        "\n",
        "    return metrics_node, metrics_relation"
      ]
    },
    {
      "cell_type": "code",
      "execution_count": 269,
      "metadata": {
        "colab": {
          "base_uri": "https://localhost:8080/",
          "height": 542
        },
        "id": "e5ALpLHNQer_",
        "outputId": "139eef22-86e1-4a6f-943a-60b0e0d57fab"
      },
      "outputs": [
        {
          "data": {
            "text/html": [
              "<html>\n",
              "<head><meta charset=\"utf-8\" /></head>\n",
              "<body>\n",
              "    <div>            <script src=\"https://cdnjs.cloudflare.com/ajax/libs/mathjax/2.7.5/MathJax.js?config=TeX-AMS-MML_SVG\"></script><script type=\"text/javascript\">if (window.MathJax) {MathJax.Hub.Config({SVG: {font: \"STIX-Web\"}});}</script>                <script type=\"text/javascript\">window.PlotlyConfig = {MathJaxConfig: 'local'};</script>\n",
              "        <script src=\"https://cdn.plot.ly/plotly-2.8.3.min.js\"></script>                <div id=\"eeb87e5b-a49a-49c4-bd36-9ca0a3487d5d\" class=\"plotly-graph-div\" style=\"height:525px; width:100%;\"></div>            <script type=\"text/javascript\">                                    window.PLOTLYENV=window.PLOTLYENV || {};                                    if (document.getElementById(\"eeb87e5b-a49a-49c4-bd36-9ca0a3487d5d\")) {                    Plotly.newPlot(                        \"eeb87e5b-a49a-49c4-bd36-9ca0a3487d5d\",                        [{\"link\":{\"source\":[34,34,55,55,36,55,14,20,20,93,55,12,74,36,55,26,26,55,26,55,55,55,69,95,69,26,55,69,95,55,55,55,66,61,16,85,36,85,30,85,36,55,66,61,55,40,25,76,65,65,5,60,42,65,65,66,61,16,65,65,65,66,61,16,65,65,40,5,60,42,40,55,65,36,12,12,55,69,95,65,65,65,65,66,61,16,55,66,61,16,87,36,36,12,36,12,87,54,87,36,12,55,5,40,5,60,42,55,55,55,66,61,16,69,95,55,66,61,55,40,5,60,42,40,5,60,42,55,87,54,14,20,55,14,14,20,54,36,54,14,20,93,54,2,54,14,54,55,55,65,51,55,12,40,5,60,42,5,40,55,65,65,65,85,30,11,85,85,30,11,85,85,66,55,54,55,66,85,55,66,61,16,5,60,5,60,42,55,55,65,65,66,61,16,65,65,65,65,55,25,76,65,55,3,54,2,55,55,54,55,66,61,16,55,55,54,2,55,54,2,55,55,66,61,16,55,54,14,20,93,55,66,61,16,55,3,54,55,12,55,12,66,61,61,16,66,61,16,55,14,20,93,55,65,65,66,61,16,65,65,66,61,16,65,55,65,65,90,65,55,66,61,16,36,36,54,55,65,90,65,36,87,55,87,82,28,26,26,40,25,76,55,40,57,75,65,82,28,54,36,55,3,55,55,65,65,65,65,65,65,65,65,66,61,16,36,12,12,55,65,65,65,65,90,36,55,87,66,61,16,54,54,14,54,2,66,61,16,54,2,66,61,16,14,20,93,54,14,20,55,54,36,54,14,20,93,54,14,20,93,54,14,20,55,12,74,79,55,12,55,79,69,95,58,69,95,58,64,69,95,58,64,65,55,40,25,76,40,55,5,60,42,40,57,40,57,40,57,55,40,57,75,55,40,57,75,55,66,55,85,30,11,55,66,55,66,61,16,55,55,55,55,36,40,55,26,55,85,30,85,55,66,61,16,66,61,16,55,66,61,16,55,66,61,16,66,61,55,26,55,26,15,55,66,61,16,55,55,79,55,55,26,55,66,61,16,55,26,55,69,95,69,95,65,55,12,66,61,16,79,55,12,55,26,69,55,66,61,55,26,15,26,51,26,26,51,51,51,55,26,26,55,12,55,38,55,12,55,66,61,61,61,16,55,55,55,87,54,54,66,61,16,54,87,54,87,54,87,55,55,87,54,55,87,65,90,87,66,61,16,66,61,16,36,54,87,82,55,82,66,61,16,36,55,82,36,65,36,82,55,82,82,82,65,65,65,36,87,36,65,65,65,55,36,12,65,65,65,65,65,65,65,65,65,65,65,12,36,55,54,3,87,55,87,55,55,26,26,66,61,66,55,12,12,55,12,66,61,16,55,55,55,55,55,66,61,16,87,87,66,87,55,3,54,55,3,54,87,54,14,55,25,76,40,55,25,76,65,55,5,60,5,60,65,36,5,60,42,55,57,75,55,12,66,61,16,90,66,61,16,66,61,16,66,61,16,66,61,16,66,61,16,69,95,65,65,26,15,55,55,12,55,38,87,38,65,65,65,65,65,65,65,65,66,61,16,65,65,65,65,65,65,66,66,61,16,65,65,65,66,65,65,66,61,16,66,65,65,65,65,66,61,16,66,65,65,65,65,36,12,36,12,12,36,55,12,87,66,61,16,55,12,26,55,12,66,61,16,66,55,66,61,16,65,55,66,61,16,55,55,55,85,30,11],\"target\":[34,55,70,36,62,83,20,20,93,55,12,33,36,55,26,26,80,26,55,4,47,69,95,69,26,55,69,95,55,55,55,66,61,16,85,36,85,30,85,36,55,66,61,16,40,25,8,65,65,5,60,42,65,65,66,61,16,65,65,65,66,61,16,65,65,40,5,60,42,40,55,9,36,12,12,55,69,95,65,65,65,65,66,61,16,87,66,61,16,87,36,36,12,36,12,87,54,87,36,12,12,5,40,5,60,42,55,84,26,66,61,16,69,95,55,66,61,16,40,5,60,42,40,5,60,42,40,83,54,83,20,55,83,83,20,54,36,54,83,20,93,54,18,54,83,54,83,38,65,51,55,12,71,5,60,42,5,40,55,71,65,65,85,30,11,85,85,30,11,85,85,66,55,54,55,66,85,65,66,61,16,5,60,5,60,42,55,55,65,65,66,61,16,65,65,65,65,55,25,8,65,55,3,54,18,55,83,54,83,66,61,16,55,55,54,18,55,54,18,55,55,66,61,16,55,54,83,20,93,55,66,61,16,55,3,54,55,12,55,12,66,61,61,16,66,61,16,55,83,20,93,55,65,65,66,61,16,65,65,66,61,16,65,55,65,65,31,65,55,66,61,16,36,36,54,55,65,31,65,36,87,54,87,82,28,26,59,40,25,8,55,40,57,41,65,82,28,54,36,54,3,55,83,65,65,65,65,65,65,65,31,66,61,16,36,12,12,55,65,65,65,65,31,36,87,87,66,61,16,54,83,83,54,18,66,61,16,54,18,66,61,16,83,20,93,54,83,20,55,54,36,54,83,20,93,54,83,20,93,54,83,20,93,12,33,89,55,12,55,89,69,95,58,69,95,58,73,69,95,58,73,65,54,40,25,8,40,55,5,60,42,40,57,40,57,40,57,55,40,57,41,55,40,57,41,55,66,61,85,30,11,55,66,55,66,61,16,55,71,6,55,36,40,55,26,55,85,30,85,55,66,61,16,66,61,16,55,66,61,16,55,66,61,16,66,61,16,26,55,26,15,68,66,61,16,55,55,89,55,55,26,55,66,61,16,55,26,55,69,95,69,95,65,55,12,66,61,16,89,55,12,55,26,69,95,66,61,16,26,15,26,51,26,26,51,44,51,29,26,59,52,12,55,38,55,12,55,66,61,61,61,16,55,55,55,67,54,54,66,61,16,54,87,54,87,54,87,96,55,87,49,55,87,65,31,87,66,61,16,66,61,16,36,54,87,82,7,82,66,61,16,36,88,82,36,65,36,82,55,82,89,89,89,65,65,36,87,36,65,65,65,89,6,12,65,65,65,65,65,65,65,65,65,65,65,12,36,6,54,3,87,55,87,83,87,26,26,66,61,66,55,12,12,55,12,66,61,16,55,55,55,55,55,66,61,16,87,87,66,87,36,3,54,55,3,54,87,54,83,83,25,8,40,6,25,8,65,55,5,60,5,60,65,36,5,60,42,55,57,41,65,12,66,61,16,31,66,61,16,66,61,16,66,61,16,66,61,16,66,61,16,69,95,65,65,26,15,68,26,12,55,38,87,38,65,65,65,65,65,65,65,65,66,61,16,65,65,65,65,65,65,66,66,61,16,65,65,65,66,65,65,66,61,16,66,65,65,65,65,66,61,16,66,71,81,39,63,36,12,36,12,12,71,12,12,87,66,61,16,55,12,26,55,12,66,61,16,66,36,66,61,16,65,55,89,61,16,55,89,89,85,30,11,55],\"value\":[215.0,70.0,56.75,6.0,27.0,5.5,202.0,33.0,14.0,9.0,21.5,231.0,185.0,14.5,17.0,257.0,19.666666666666668,14.333333333333334,190.5,964.0,34.0,45.0,16040.57142857143,96.0,94.0,29.0,27.0,21.0,21.333333333333332,13.0,7853.111111111111,6.0,15.0,18.4,16.0,19.5,30.0,20.5,96.5,5.0,18.0,3.0,2.0,20.0,44.0,11.0,6.0,3.0,11.0,8.0,7.222222222222222,8.0,20.0,9.5,8.0,7.0,5.0,283.0,18.0,10.5,16.0,18.0,29.0,62.666666666666664,112.0,59.75,9719.666666666666,58.625,3.0,112.0,429.0,124.5,114.63636363636364,151.5,20.166666666666668,21.666666666666668,16.615384615384617,35.5,1.0,72.0,2894.4,32.0,28.0,19.75,192.0,20686.25,4.5,4.0,26.8,8.666666666666666,16.0,27.0,21.0,28428.0,7.0,55.18181818181818,18.0,33760.5,28.333333333333332,63.666666666666664,8.0,3.0,7.0,20.0,13.5,18.0,80.0,62.0,5.0,1910.0,26.0,9.0,18.0,24.0,12.0,3.0,42.30769230769231,12.0,17.0,14.0,27.666666666666668,10.0,37.5,116.71428571428571,27.4,37.5,28.8,32.25,12.666666666666666,11691.866666666667,18.0,51.0,29.0,23.714285714285715,33.666666666666664,31.91304347826087,25.333333333333332,134.66666666666666,13.0,67.5,17.5,23.5,1014.0,28.5,13.0,115.0,5.0,11.0,33.0,20.166666666666668,233.0,18.0,6.0,14.4,36.0,18944.428571428572,21.152542372881356,20.416666666666668,7.0,140.0,14.0,11.0,24.0,2.0,44.0,13.0,230.75,15.0,53.0,5.0,26.5,19.0,12189.846153846154,13.5,11.727272727272727,6.0,14.69811320754717,4.666666666666667,6.0,190.0,1.0,8.0,128.33333333333334,4.0,5.5,36.163636363636364,4.0,158.0,10428.0,20.0,4.0,13.0,35.77777777777778,7.0,16.5,19.083333333333332,126.0,11.0,5.333333333333333,32.333333333333336,13.0,57.0,32.0,30.0]},\"node\":{\"color\":\"blue\",\"label\":[\"/secure/depositallinclusive/new/confirmation.aspx\",\"/secure/cardtransferfromclosed/complete.aspx\",\"/secure/depositclose/confirmation.aspx\",\"/secure/depsops.aspx\",\"/secure/autopayments/all/list.aspx\",\"/secure/paymentservices/create.aspx\",\"/secure/moscowregionhomepay/create.aspx\",\"/secure/servicepackages/list.aspx\",\"/secure/singlepaymentdocument/confirmation.aspx\",\"/secure/cardtoaccount/create.aspx\",\"/secure/cardtoaccount/confirmation.aspx\",\"/secure/cardtocardtransfer/complete.aspx\",\"/secure/cardoperations.aspx\",\"/secure/moscowregionhomepay/complete.aspx\",\"/secure/depositcommon/create.aspx\",\"/secure/bonusprogram/mkbbonus/compensate/create.aspx\",\"/secure/paymentcomplete.aspx\",\"/secure/communication/feedbackconfirmation.aspx\",\"/secure/depositclose/create.aspx\",\"/secure/bonusprogram/mkbbonus/compensate/complete.aspx\",\"/secure/depositcommon/confirmation.aspx\",\"/secure/communication/dialogmobile.aspx\",\"/secure/depositallinclusive/new/complete.aspx\",\"/secure/mkbtravel/travelservice.aspx\",\"/secure/cardtoaccount/complete.aspx\",\"/secure/singlepaymentdocument/create.aspx\",\"/secure/bonusprogram/mkbbonus/main.aspx\",\"/secure/cardsmsinforming/disconnect/confirmation.aspx\",\"/secure/insurance/list.aspx\",\"/secure/communication/feedback.aspx\",\"/secure/cardtocardtransfer/confirmation.aspx\",\"/secure/intrabank/create.aspx\",\"/secure/expenseslimits/confirmation.aspx\",\"/secure/expenseslimits/create.aspx\",\"/secure/activation.aspx\",\"/secure/earlyrepaymentloan/complete.aspx\",\"/secure/dcards.aspx\",\"/secure/cardsmsinforming/disconnect/complete.aspx\",\"/secure/ops.aspx\",\"/secure/autopayments/list.aspx\",\"/secure/directory.aspx\",\"/secure/moscowenergomarket/confirmation.aspx\",\"/secure/paymentservices/complete.aspx\",\"/secure/cardactivation/confirmation.aspx\",\"/secure/communication/dialog.aspx\",\"/secure/earlyrepaymentloan/confirmation.aspx\",\"/secure/earlyrepaymentloan/create.aspx\",\"/secure/autopayments/all/select.aspx\",\"/secure/autopayments/all/mobilephone/complete.aspx\",\"/secure/approvedcreditforcard/list.aspx\",\"/secure/cardtransferfromclosed/confirmation.aspx\",\"/secure/communication/messageslist.aspx\",\"/secure/communication/messageslistmobile.aspx\",\"/secure/autopayments/all/autopaymentdirectory.aspx\",\"/secure/deps.aspx\",\"/secure/main.aspx\",\"/secure/cardtransferfromclosed/create.aspx\",\"/secure/moscowenergomarket/create.aspx\",\"/secure/stateservices/create.aspx\",\"/secure/mkbtravel/main.aspx\",\"/secure/paymentservices/confirmation.aspx\",\"/secure/paymentconfirmation.aspx\",\"/secure/cardsmsinforming/disconnect/create.aspx\",\"/secure/userblock.aspx\",\"/secure/stateservices/complete.aspx\",\"/secure/operations.aspx\",\"/secure/paymentform.aspx\",\"/secure/viewsettings.aspx\",\"/secure/bonusprogram/mkbbonus/compensate/confirmation.aspx\",\"/secure/government/search.aspx\",\"/secure/cardactivation/create.aspx\",\"/secure/news.aspx\",\"/secure/moscowregionhomepay/confirmation.aspx\",\"/secure/stateservices/confirmation.aspx\",\"/secure/expenseslimits/complete.aspx\",\"/secure/moscowenergomarket/complete.aspx\",\"/secure/singlepaymentdocument/complete.aspx\",\"/secure/cardactivation/complete.aspx\",\"/secure/communication/feedbackcomplete.aspx\",\"/secure/fps/complete.aspx\",\"/secure/bonusprogram/compensate/withdrawalcash.aspx\",\"/secure/systemsettings/selectsysoper.aspx\",\"/secure/loans.aspx\",\"/secure/depositallinclusive/new/create.aspx\",\"/secure/activatesecurecodescard/create.aspx\",\"/secure/cardtocardtransfer/create.aspx\",\"/secure/intrabank/confirmation.aspx\",\"/secure/accounts.aspx\",\"/secure/repaymentofcreditsways.aspx\",\"/secure/fps/create.aspx\",\"/secure/intrabank/complete.aspx\",\"/secure/fps/settings/main.aspx\",\"/secure/fps/confirmation.aspx\",\"/secure/depositcommon/complete.aspx\",\"/secure/autopayments/all/mobilephone/create.aspx\",\"/secure/government/smav/taxview.aspx\",\"/secure/opensavingsaccount/create.aspx\"],\"line\":{\"color\":\"black\",\"width\":0.5},\"pad\":15,\"thickness\":20},\"type\":\"sankey\"}],                        {\"template\":{\"data\":{\"bar\":[{\"error_x\":{\"color\":\"#2a3f5f\"},\"error_y\":{\"color\":\"#2a3f5f\"},\"marker\":{\"line\":{\"color\":\"#E5ECF6\",\"width\":0.5},\"pattern\":{\"fillmode\":\"overlay\",\"size\":10,\"solidity\":0.2}},\"type\":\"bar\"}],\"barpolar\":[{\"marker\":{\"line\":{\"color\":\"#E5ECF6\",\"width\":0.5},\"pattern\":{\"fillmode\":\"overlay\",\"size\":10,\"solidity\":0.2}},\"type\":\"barpolar\"}],\"carpet\":[{\"aaxis\":{\"endlinecolor\":\"#2a3f5f\",\"gridcolor\":\"white\",\"linecolor\":\"white\",\"minorgridcolor\":\"white\",\"startlinecolor\":\"#2a3f5f\"},\"baxis\":{\"endlinecolor\":\"#2a3f5f\",\"gridcolor\":\"white\",\"linecolor\":\"white\",\"minorgridcolor\":\"white\",\"startlinecolor\":\"#2a3f5f\"},\"type\":\"carpet\"}],\"choropleth\":[{\"colorbar\":{\"outlinewidth\":0,\"ticks\":\"\"},\"type\":\"choropleth\"}],\"contour\":[{\"colorbar\":{\"outlinewidth\":0,\"ticks\":\"\"},\"colorscale\":[[0.0,\"#0d0887\"],[0.1111111111111111,\"#46039f\"],[0.2222222222222222,\"#7201a8\"],[0.3333333333333333,\"#9c179e\"],[0.4444444444444444,\"#bd3786\"],[0.5555555555555556,\"#d8576b\"],[0.6666666666666666,\"#ed7953\"],[0.7777777777777778,\"#fb9f3a\"],[0.8888888888888888,\"#fdca26\"],[1.0,\"#f0f921\"]],\"type\":\"contour\"}],\"contourcarpet\":[{\"colorbar\":{\"outlinewidth\":0,\"ticks\":\"\"},\"type\":\"contourcarpet\"}],\"heatmap\":[{\"colorbar\":{\"outlinewidth\":0,\"ticks\":\"\"},\"colorscale\":[[0.0,\"#0d0887\"],[0.1111111111111111,\"#46039f\"],[0.2222222222222222,\"#7201a8\"],[0.3333333333333333,\"#9c179e\"],[0.4444444444444444,\"#bd3786\"],[0.5555555555555556,\"#d8576b\"],[0.6666666666666666,\"#ed7953\"],[0.7777777777777778,\"#fb9f3a\"],[0.8888888888888888,\"#fdca26\"],[1.0,\"#f0f921\"]],\"type\":\"heatmap\"}],\"heatmapgl\":[{\"colorbar\":{\"outlinewidth\":0,\"ticks\":\"\"},\"colorscale\":[[0.0,\"#0d0887\"],[0.1111111111111111,\"#46039f\"],[0.2222222222222222,\"#7201a8\"],[0.3333333333333333,\"#9c179e\"],[0.4444444444444444,\"#bd3786\"],[0.5555555555555556,\"#d8576b\"],[0.6666666666666666,\"#ed7953\"],[0.7777777777777778,\"#fb9f3a\"],[0.8888888888888888,\"#fdca26\"],[1.0,\"#f0f921\"]],\"type\":\"heatmapgl\"}],\"histogram\":[{\"marker\":{\"pattern\":{\"fillmode\":\"overlay\",\"size\":10,\"solidity\":0.2}},\"type\":\"histogram\"}],\"histogram2d\":[{\"colorbar\":{\"outlinewidth\":0,\"ticks\":\"\"},\"colorscale\":[[0.0,\"#0d0887\"],[0.1111111111111111,\"#46039f\"],[0.2222222222222222,\"#7201a8\"],[0.3333333333333333,\"#9c179e\"],[0.4444444444444444,\"#bd3786\"],[0.5555555555555556,\"#d8576b\"],[0.6666666666666666,\"#ed7953\"],[0.7777777777777778,\"#fb9f3a\"],[0.8888888888888888,\"#fdca26\"],[1.0,\"#f0f921\"]],\"type\":\"histogram2d\"}],\"histogram2dcontour\":[{\"colorbar\":{\"outlinewidth\":0,\"ticks\":\"\"},\"colorscale\":[[0.0,\"#0d0887\"],[0.1111111111111111,\"#46039f\"],[0.2222222222222222,\"#7201a8\"],[0.3333333333333333,\"#9c179e\"],[0.4444444444444444,\"#bd3786\"],[0.5555555555555556,\"#d8576b\"],[0.6666666666666666,\"#ed7953\"],[0.7777777777777778,\"#fb9f3a\"],[0.8888888888888888,\"#fdca26\"],[1.0,\"#f0f921\"]],\"type\":\"histogram2dcontour\"}],\"mesh3d\":[{\"colorbar\":{\"outlinewidth\":0,\"ticks\":\"\"},\"type\":\"mesh3d\"}],\"parcoords\":[{\"line\":{\"colorbar\":{\"outlinewidth\":0,\"ticks\":\"\"}},\"type\":\"parcoords\"}],\"pie\":[{\"automargin\":true,\"type\":\"pie\"}],\"scatter\":[{\"marker\":{\"colorbar\":{\"outlinewidth\":0,\"ticks\":\"\"}},\"type\":\"scatter\"}],\"scatter3d\":[{\"line\":{\"colorbar\":{\"outlinewidth\":0,\"ticks\":\"\"}},\"marker\":{\"colorbar\":{\"outlinewidth\":0,\"ticks\":\"\"}},\"type\":\"scatter3d\"}],\"scattercarpet\":[{\"marker\":{\"colorbar\":{\"outlinewidth\":0,\"ticks\":\"\"}},\"type\":\"scattercarpet\"}],\"scattergeo\":[{\"marker\":{\"colorbar\":{\"outlinewidth\":0,\"ticks\":\"\"}},\"type\":\"scattergeo\"}],\"scattergl\":[{\"marker\":{\"colorbar\":{\"outlinewidth\":0,\"ticks\":\"\"}},\"type\":\"scattergl\"}],\"scattermapbox\":[{\"marker\":{\"colorbar\":{\"outlinewidth\":0,\"ticks\":\"\"}},\"type\":\"scattermapbox\"}],\"scatterpolar\":[{\"marker\":{\"colorbar\":{\"outlinewidth\":0,\"ticks\":\"\"}},\"type\":\"scatterpolar\"}],\"scatterpolargl\":[{\"marker\":{\"colorbar\":{\"outlinewidth\":0,\"ticks\":\"\"}},\"type\":\"scatterpolargl\"}],\"scatterternary\":[{\"marker\":{\"colorbar\":{\"outlinewidth\":0,\"ticks\":\"\"}},\"type\":\"scatterternary\"}],\"surface\":[{\"colorbar\":{\"outlinewidth\":0,\"ticks\":\"\"},\"colorscale\":[[0.0,\"#0d0887\"],[0.1111111111111111,\"#46039f\"],[0.2222222222222222,\"#7201a8\"],[0.3333333333333333,\"#9c179e\"],[0.4444444444444444,\"#bd3786\"],[0.5555555555555556,\"#d8576b\"],[0.6666666666666666,\"#ed7953\"],[0.7777777777777778,\"#fb9f3a\"],[0.8888888888888888,\"#fdca26\"],[1.0,\"#f0f921\"]],\"type\":\"surface\"}],\"table\":[{\"cells\":{\"fill\":{\"color\":\"#EBF0F8\"},\"line\":{\"color\":\"white\"}},\"header\":{\"fill\":{\"color\":\"#C8D4E3\"},\"line\":{\"color\":\"white\"}},\"type\":\"table\"}]},\"layout\":{\"annotationdefaults\":{\"arrowcolor\":\"#2a3f5f\",\"arrowhead\":0,\"arrowwidth\":1},\"autotypenumbers\":\"strict\",\"coloraxis\":{\"colorbar\":{\"outlinewidth\":0,\"ticks\":\"\"}},\"colorscale\":{\"diverging\":[[0,\"#8e0152\"],[0.1,\"#c51b7d\"],[0.2,\"#de77ae\"],[0.3,\"#f1b6da\"],[0.4,\"#fde0ef\"],[0.5,\"#f7f7f7\"],[0.6,\"#e6f5d0\"],[0.7,\"#b8e186\"],[0.8,\"#7fbc41\"],[0.9,\"#4d9221\"],[1,\"#276419\"]],\"sequential\":[[0.0,\"#0d0887\"],[0.1111111111111111,\"#46039f\"],[0.2222222222222222,\"#7201a8\"],[0.3333333333333333,\"#9c179e\"],[0.4444444444444444,\"#bd3786\"],[0.5555555555555556,\"#d8576b\"],[0.6666666666666666,\"#ed7953\"],[0.7777777777777778,\"#fb9f3a\"],[0.8888888888888888,\"#fdca26\"],[1.0,\"#f0f921\"]],\"sequentialminus\":[[0.0,\"#0d0887\"],[0.1111111111111111,\"#46039f\"],[0.2222222222222222,\"#7201a8\"],[0.3333333333333333,\"#9c179e\"],[0.4444444444444444,\"#bd3786\"],[0.5555555555555556,\"#d8576b\"],[0.6666666666666666,\"#ed7953\"],[0.7777777777777778,\"#fb9f3a\"],[0.8888888888888888,\"#fdca26\"],[1.0,\"#f0f921\"]]},\"colorway\":[\"#636efa\",\"#EF553B\",\"#00cc96\",\"#ab63fa\",\"#FFA15A\",\"#19d3f3\",\"#FF6692\",\"#B6E880\",\"#FF97FF\",\"#FECB52\"],\"font\":{\"color\":\"#2a3f5f\"},\"geo\":{\"bgcolor\":\"white\",\"lakecolor\":\"white\",\"landcolor\":\"#E5ECF6\",\"showlakes\":true,\"showland\":true,\"subunitcolor\":\"white\"},\"hoverlabel\":{\"align\":\"left\"},\"hovermode\":\"closest\",\"mapbox\":{\"style\":\"light\"},\"paper_bgcolor\":\"white\",\"plot_bgcolor\":\"#E5ECF6\",\"polar\":{\"angularaxis\":{\"gridcolor\":\"white\",\"linecolor\":\"white\",\"ticks\":\"\"},\"bgcolor\":\"#E5ECF6\",\"radialaxis\":{\"gridcolor\":\"white\",\"linecolor\":\"white\",\"ticks\":\"\"}},\"scene\":{\"xaxis\":{\"backgroundcolor\":\"#E5ECF6\",\"gridcolor\":\"white\",\"gridwidth\":2,\"linecolor\":\"white\",\"showbackground\":true,\"ticks\":\"\",\"zerolinecolor\":\"white\"},\"yaxis\":{\"backgroundcolor\":\"#E5ECF6\",\"gridcolor\":\"white\",\"gridwidth\":2,\"linecolor\":\"white\",\"showbackground\":true,\"ticks\":\"\",\"zerolinecolor\":\"white\"},\"zaxis\":{\"backgroundcolor\":\"#E5ECF6\",\"gridcolor\":\"white\",\"gridwidth\":2,\"linecolor\":\"white\",\"showbackground\":true,\"ticks\":\"\",\"zerolinecolor\":\"white\"}},\"shapedefaults\":{\"line\":{\"color\":\"#2a3f5f\"}},\"ternary\":{\"aaxis\":{\"gridcolor\":\"white\",\"linecolor\":\"white\",\"ticks\":\"\"},\"baxis\":{\"gridcolor\":\"white\",\"linecolor\":\"white\",\"ticks\":\"\"},\"bgcolor\":\"#E5ECF6\",\"caxis\":{\"gridcolor\":\"white\",\"linecolor\":\"white\",\"ticks\":\"\"}},\"title\":{\"x\":0.05},\"xaxis\":{\"automargin\":true,\"gridcolor\":\"white\",\"linecolor\":\"white\",\"ticks\":\"\",\"title\":{\"standoff\":15},\"zerolinecolor\":\"white\",\"zerolinewidth\":2},\"yaxis\":{\"automargin\":true,\"gridcolor\":\"white\",\"linecolor\":\"white\",\"ticks\":\"\",\"title\":{\"standoff\":15},\"zerolinecolor\":\"white\",\"zerolinewidth\":2}}}},                        {\"responsive\": true}                    ).then(function(){\n",
              "                            \n",
              "var gd = document.getElementById('eeb87e5b-a49a-49c4-bd36-9ca0a3487d5d');\n",
              "var x = new MutationObserver(function (mutations, observer) {{\n",
              "        var display = window.getComputedStyle(gd).display;\n",
              "        if (!display || display === 'none') {{\n",
              "            console.log([gd, 'removed!']);\n",
              "            Plotly.purge(gd);\n",
              "            observer.disconnect();\n",
              "        }}\n",
              "}});\n",
              "\n",
              "// Listen for the removal of the full notebook cells\n",
              "var notebookContainer = gd.closest('#notebook-container');\n",
              "if (notebookContainer) {{\n",
              "    x.observe(notebookContainer, {childList: true});\n",
              "}}\n",
              "\n",
              "// Listen for the clearing of the current output cell\n",
              "var outputEl = gd.closest('.output');\n",
              "if (outputEl) {{\n",
              "    x.observe(outputEl, {childList: true});\n",
              "}}\n",
              "\n",
              "                        })                };                            </script>        </div>\n",
              "</body>\n",
              "</html>"
            ]
          },
          "metadata": {},
          "output_type": "display_data"
        }
      ],
      "source": [
        "df_random_copy = df_random.copy()\n",
        "df_random_copy['time_stamp_start'] = pd.to_datetime(df_random_copy.time_stamp_start)\n",
        "df_random_copy['time_stamp_end']   = pd.to_datetime(df_random_copy.time_stamp_end)\n",
        "df = df_random_copy.copy()\n",
        "metrics_relation = df.groupby(['url_start','url_end']).agg({'diff':['mean','max','min','sum','count'],'reload':['mean'], 'process_flag_num':['mean']})\n",
        "metrics_relation.columns = [ '_'.join(col) for col in metrics_relation.columns]\n",
        "metrics_relation = metrics_relation.rename(columns={'diff_count':'qty_rel_all','process_flag_num_mean':'process_order_mean','reload_mean':'is_reload'})\n",
        "metrics_relation = metrics_relation.reset_index()\n",
        "qty_all = df.groupby('url_start').count().rename(columns={'clientcode':'qty_all'})[['qty_all']]\n",
        "qty_unique_user = df[['clientcode','url_start']].drop_duplicates().groupby('url_start').count().rename(columns={'clientcode':'qty_unique_user'})\n",
        "qty_in = metrics_relation.reset_index().groupby('url_start').sum().rename(columns = {'qty_rel_all':'qty'})\n",
        "qty_in.columns = qty_in.columns+'_in'\n",
        "qty_out = metrics_relation.reset_index().groupby('url_end').sum().rename(columns = {'qty_rel_all':'qty'})\n",
        "qty_out.columns = qty_out.columns+'_out'\n",
        "metrics_node = pd.merge(qty_all,qty_unique_user,left_index=True, right_index=True, how = 'left')\n",
        "metrics_node = pd.merge(metrics_node,qty_in,left_index=True, right_index=True, how = 'left')\n",
        "metrics_node = pd.merge(metrics_node,qty_out,left_index=True, right_index=True, how = 'left')\n",
        "metrics_node['qty_in_out_ratio'] = metrics_node.qty_in/metrics_node.qty_out\n",
        "metrics_node = metrics_node.reset_index()\n",
        "cnt_metric = metrics_relation['diff_mean']\n",
        "fig = go.Figure(data=[go.Sankey(\n",
        "      node = dict(\n",
        "        pad = 15,\n",
        "        thickness = 20,\n",
        "        line = dict(color = \"black\", width = 0.5),\n",
        "        label = list(d.keys()),\n",
        "        color = \"blue\"\n",
        "      ),\n",
        "      link = dict(\n",
        "        source = list(df_random['source_id']),\n",
        "        target = list(df_random['target_id']),\n",
        "        value = cnt_metric\n",
        "    ))])\n",
        "fig.show()"
      ]
    },
    {
      "cell_type": "code",
      "execution_count": 23,
      "metadata": {},
      "outputs": [
        {
          "data": {
            "text/html": [
              "<div>\n",
              "<style scoped>\n",
              "    .dataframe tbody tr th:only-of-type {\n",
              "        vertical-align: middle;\n",
              "    }\n",
              "\n",
              "    .dataframe tbody tr th {\n",
              "        vertical-align: top;\n",
              "    }\n",
              "\n",
              "    .dataframe thead th {\n",
              "        text-align: right;\n",
              "    }\n",
              "</style>\n",
              "<table border=\"1\" class=\"dataframe\">\n",
              "  <thead>\n",
              "    <tr style=\"text-align: right;\">\n",
              "      <th></th>\n",
              "      <th>url_start</th>\n",
              "      <th>url_end</th>\n",
              "      <th>diff_mean</th>\n",
              "      <th>diff_max</th>\n",
              "      <th>diff_min</th>\n",
              "      <th>diff_sum</th>\n",
              "      <th>qty_rel_all</th>\n",
              "      <th>is_reload</th>\n",
              "      <th>process_order_mean</th>\n",
              "    </tr>\n",
              "  </thead>\n",
              "  <tbody>\n",
              "    <tr>\n",
              "      <th>0</th>\n",
              "      <td>accounts</td>\n",
              "      <td>dcards</td>\n",
              "      <td>5.000000</td>\n",
              "      <td>6</td>\n",
              "      <td>4</td>\n",
              "      <td>10</td>\n",
              "      <td>2</td>\n",
              "      <td>0.0</td>\n",
              "      <td>23.500000</td>\n",
              "    </tr>\n",
              "    <tr>\n",
              "      <th>1</th>\n",
              "      <td>accounts</td>\n",
              "      <td>deps</td>\n",
              "      <td>44.500000</td>\n",
              "      <td>59</td>\n",
              "      <td>30</td>\n",
              "      <td>89</td>\n",
              "      <td>2</td>\n",
              "      <td>0.0</td>\n",
              "      <td>12.500000</td>\n",
              "    </tr>\n",
              "    <tr>\n",
              "      <th>2</th>\n",
              "      <td>accounts</td>\n",
              "      <td>main</td>\n",
              "      <td>39.000000</td>\n",
              "      <td>39</td>\n",
              "      <td>39</td>\n",
              "      <td>39</td>\n",
              "      <td>1</td>\n",
              "      <td>0.0</td>\n",
              "      <td>4.000000</td>\n",
              "    </tr>\n",
              "    <tr>\n",
              "      <th>3</th>\n",
              "      <td>accounts</td>\n",
              "      <td>paymentform</td>\n",
              "      <td>17.000000</td>\n",
              "      <td>20</td>\n",
              "      <td>15</td>\n",
              "      <td>51</td>\n",
              "      <td>3</td>\n",
              "      <td>0.0</td>\n",
              "      <td>14.000000</td>\n",
              "    </tr>\n",
              "    <tr>\n",
              "      <th>4</th>\n",
              "      <td>autopayments/list</td>\n",
              "      <td>paymentservices/create</td>\n",
              "      <td>8.000000</td>\n",
              "      <td>8</td>\n",
              "      <td>8</td>\n",
              "      <td>8</td>\n",
              "      <td>1</td>\n",
              "      <td>0.0</td>\n",
              "      <td>2.000000</td>\n",
              "    </tr>\n",
              "    <tr>\n",
              "      <th>5</th>\n",
              "      <td>bonusprogram/mkbbonus/compensate/confirmation</td>\n",
              "      <td>complete</td>\n",
              "      <td>8.000000</td>\n",
              "      <td>8</td>\n",
              "      <td>8</td>\n",
              "      <td>8</td>\n",
              "      <td>1</td>\n",
              "      <td>0.0</td>\n",
              "      <td>16.000000</td>\n",
              "    </tr>\n",
              "    <tr>\n",
              "      <th>6</th>\n",
              "      <td>bonusprogram/mkbbonus/compensate/create</td>\n",
              "      <td>bonusprogram/mkbbonus/compensate/confirmation</td>\n",
              "      <td>13.000000</td>\n",
              "      <td>13</td>\n",
              "      <td>13</td>\n",
              "      <td>13</td>\n",
              "      <td>1</td>\n",
              "      <td>0.0</td>\n",
              "      <td>15.000000</td>\n",
              "    </tr>\n",
              "    <tr>\n",
              "      <th>7</th>\n",
              "      <td>bonusprogram/mkbbonus/compensate/create</td>\n",
              "      <td>bonusprogram/mkbbonus/compensate/create</td>\n",
              "      <td>3.000000</td>\n",
              "      <td>6</td>\n",
              "      <td>1</td>\n",
              "      <td>9</td>\n",
              "      <td>3</td>\n",
              "      <td>1.0</td>\n",
              "      <td>13.000000</td>\n",
              "    </tr>\n",
              "    <tr>\n",
              "      <th>8</th>\n",
              "      <td>bonusprogram/mkbbonus/compensate/create</td>\n",
              "      <td>bonusprogram/mkbbonus/main</td>\n",
              "      <td>30.666667</td>\n",
              "      <td>67</td>\n",
              "      <td>7</td>\n",
              "      <td>92</td>\n",
              "      <td>3</td>\n",
              "      <td>0.0</td>\n",
              "      <td>23.666667</td>\n",
              "    </tr>\n",
              "    <tr>\n",
              "      <th>9</th>\n",
              "      <td>bonusprogram/mkbbonus/compensate/create</td>\n",
              "      <td>main</td>\n",
              "      <td>746.000000</td>\n",
              "      <td>746</td>\n",
              "      <td>746</td>\n",
              "      <td>746</td>\n",
              "      <td>1</td>\n",
              "      <td>0.0</td>\n",
              "      <td>9.000000</td>\n",
              "    </tr>\n",
              "    <tr>\n",
              "      <th>10</th>\n",
              "      <td>bonusprogram/mkbbonus/main</td>\n",
              "      <td>bonusprogram/mkbbonus/compensate/create</td>\n",
              "      <td>80.800000</td>\n",
              "      <td>181</td>\n",
              "      <td>6</td>\n",
              "      <td>404</td>\n",
              "      <td>5</td>\n",
              "      <td>0.0</td>\n",
              "      <td>17.400000</td>\n",
              "    </tr>\n",
              "    <tr>\n",
              "      <th>11</th>\n",
              "      <td>bonusprogram/mkbbonus/main</td>\n",
              "      <td>dcards</td>\n",
              "      <td>54.000000</td>\n",
              "      <td>54</td>\n",
              "      <td>54</td>\n",
              "      <td>54</td>\n",
              "      <td>1</td>\n",
              "      <td>0.0</td>\n",
              "      <td>19.000000</td>\n",
              "    </tr>\n",
              "    <tr>\n",
              "      <th>12</th>\n",
              "      <td>bonusprogram/mkbbonus/main</td>\n",
              "      <td>main</td>\n",
              "      <td>55.800000</td>\n",
              "      <td>74</td>\n",
              "      <td>30</td>\n",
              "      <td>279</td>\n",
              "      <td>5</td>\n",
              "      <td>0.0</td>\n",
              "      <td>26.600000</td>\n",
              "    </tr>\n",
              "    <tr>\n",
              "      <th>13</th>\n",
              "      <td>cardoperations</td>\n",
              "      <td>accounts</td>\n",
              "      <td>27.333333</td>\n",
              "      <td>39</td>\n",
              "      <td>9</td>\n",
              "      <td>82</td>\n",
              "      <td>3</td>\n",
              "      <td>0.0</td>\n",
              "      <td>22.666667</td>\n",
              "    </tr>\n",
              "    <tr>\n",
              "      <th>14</th>\n",
              "      <td>cardoperations</td>\n",
              "      <td>bonusprogram/mkbbonus/main</td>\n",
              "      <td>53.000000</td>\n",
              "      <td>53</td>\n",
              "      <td>53</td>\n",
              "      <td>53</td>\n",
              "      <td>1</td>\n",
              "      <td>0.0</td>\n",
              "      <td>18.000000</td>\n",
              "    </tr>\n",
              "    <tr>\n",
              "      <th>15</th>\n",
              "      <td>cardoperations</td>\n",
              "      <td>cardoperations</td>\n",
              "      <td>11.714286</td>\n",
              "      <td>17</td>\n",
              "      <td>9</td>\n",
              "      <td>82</td>\n",
              "      <td>7</td>\n",
              "      <td>1.0</td>\n",
              "      <td>12.428571</td>\n",
              "    </tr>\n",
              "    <tr>\n",
              "      <th>16</th>\n",
              "      <td>cardoperations</td>\n",
              "      <td>dcards</td>\n",
              "      <td>5.000000</td>\n",
              "      <td>5</td>\n",
              "      <td>5</td>\n",
              "      <td>5</td>\n",
              "      <td>1</td>\n",
              "      <td>0.0</td>\n",
              "      <td>5.000000</td>\n",
              "    </tr>\n",
              "    <tr>\n",
              "      <th>17</th>\n",
              "      <td>cardoperations</td>\n",
              "      <td>main</td>\n",
              "      <td>150.000000</td>\n",
              "      <td>150</td>\n",
              "      <td>150</td>\n",
              "      <td>150</td>\n",
              "      <td>1</td>\n",
              "      <td>0.0</td>\n",
              "      <td>9.000000</td>\n",
              "    </tr>\n",
              "    <tr>\n",
              "      <th>18</th>\n",
              "      <td>cardoperations</td>\n",
              "      <td>paymentform</td>\n",
              "      <td>50.000000</td>\n",
              "      <td>50</td>\n",
              "      <td>50</td>\n",
              "      <td>50</td>\n",
              "      <td>1</td>\n",
              "      <td>0.0</td>\n",
              "      <td>25.000000</td>\n",
              "    </tr>\n",
              "    <tr>\n",
              "      <th>19</th>\n",
              "      <td>dcards</td>\n",
              "      <td>accounts</td>\n",
              "      <td>9.000000</td>\n",
              "      <td>9</td>\n",
              "      <td>9</td>\n",
              "      <td>9</td>\n",
              "      <td>1</td>\n",
              "      <td>0.0</td>\n",
              "      <td>28.000000</td>\n",
              "    </tr>\n",
              "    <tr>\n",
              "      <th>20</th>\n",
              "      <td>dcards</td>\n",
              "      <td>cardoperations</td>\n",
              "      <td>9.333333</td>\n",
              "      <td>19</td>\n",
              "      <td>2</td>\n",
              "      <td>28</td>\n",
              "      <td>3</td>\n",
              "      <td>0.0</td>\n",
              "      <td>24.333333</td>\n",
              "    </tr>\n",
              "    <tr>\n",
              "      <th>21</th>\n",
              "      <td>dcards</td>\n",
              "      <td>dcards</td>\n",
              "      <td>1.000000</td>\n",
              "      <td>1</td>\n",
              "      <td>1</td>\n",
              "      <td>1</td>\n",
              "      <td>1</td>\n",
              "      <td>1.0</td>\n",
              "      <td>35.000000</td>\n",
              "    </tr>\n",
              "    <tr>\n",
              "      <th>22</th>\n",
              "      <td>dcards</td>\n",
              "      <td>main</td>\n",
              "      <td>6.333333</td>\n",
              "      <td>10</td>\n",
              "      <td>3</td>\n",
              "      <td>57</td>\n",
              "      <td>9</td>\n",
              "      <td>0.0</td>\n",
              "      <td>23.777778</td>\n",
              "    </tr>\n",
              "    <tr>\n",
              "      <th>23</th>\n",
              "      <td>depositallinclusive/new/create</td>\n",
              "      <td>depositcommon/create</td>\n",
              "      <td>28.000000</td>\n",
              "      <td>50</td>\n",
              "      <td>6</td>\n",
              "      <td>56</td>\n",
              "      <td>2</td>\n",
              "      <td>0.0</td>\n",
              "      <td>20.000000</td>\n",
              "    </tr>\n",
              "    <tr>\n",
              "      <th>24</th>\n",
              "      <td>depositallinclusive/new/create</td>\n",
              "      <td>main</td>\n",
              "      <td>25.500000</td>\n",
              "      <td>33</td>\n",
              "      <td>18</td>\n",
              "      <td>51</td>\n",
              "      <td>2</td>\n",
              "      <td>0.0</td>\n",
              "      <td>14.000000</td>\n",
              "    </tr>\n",
              "    <tr>\n",
              "      <th>25</th>\n",
              "      <td>depositclose/confirmation</td>\n",
              "      <td>main</td>\n",
              "      <td>68.000000</td>\n",
              "      <td>68</td>\n",
              "      <td>68</td>\n",
              "      <td>68</td>\n",
              "      <td>1</td>\n",
              "      <td>0.0</td>\n",
              "      <td>20.000000</td>\n",
              "    </tr>\n",
              "    <tr>\n",
              "      <th>26</th>\n",
              "      <td>depositclose/create</td>\n",
              "      <td>depositclose/confirmation</td>\n",
              "      <td>40.000000</td>\n",
              "      <td>40</td>\n",
              "      <td>40</td>\n",
              "      <td>40</td>\n",
              "      <td>1</td>\n",
              "      <td>0.0</td>\n",
              "      <td>19.000000</td>\n",
              "    </tr>\n",
              "    <tr>\n",
              "      <th>27</th>\n",
              "      <td>depositcommon/confirmation</td>\n",
              "      <td>complete</td>\n",
              "      <td>188.000000</td>\n",
              "      <td>188</td>\n",
              "      <td>188</td>\n",
              "      <td>188</td>\n",
              "      <td>1</td>\n",
              "      <td>0.0</td>\n",
              "      <td>31.000000</td>\n",
              "    </tr>\n",
              "    <tr>\n",
              "      <th>28</th>\n",
              "      <td>depositcommon/create</td>\n",
              "      <td>depositallinclusive/new/create</td>\n",
              "      <td>30.000000</td>\n",
              "      <td>30</td>\n",
              "      <td>30</td>\n",
              "      <td>30</td>\n",
              "      <td>1</td>\n",
              "      <td>0.0</td>\n",
              "      <td>12.000000</td>\n",
              "    </tr>\n",
              "    <tr>\n",
              "      <th>29</th>\n",
              "      <td>depositcommon/create</td>\n",
              "      <td>depositcommon/confirmation</td>\n",
              "      <td>89.000000</td>\n",
              "      <td>89</td>\n",
              "      <td>89</td>\n",
              "      <td>89</td>\n",
              "      <td>1</td>\n",
              "      <td>0.0</td>\n",
              "      <td>30.000000</td>\n",
              "    </tr>\n",
              "    <tr>\n",
              "      <th>30</th>\n",
              "      <td>deps</td>\n",
              "      <td>accounts</td>\n",
              "      <td>31.500000</td>\n",
              "      <td>44</td>\n",
              "      <td>19</td>\n",
              "      <td>63</td>\n",
              "      <td>2</td>\n",
              "      <td>0.0</td>\n",
              "      <td>4.500000</td>\n",
              "    </tr>\n",
              "    <tr>\n",
              "      <th>31</th>\n",
              "      <td>deps</td>\n",
              "      <td>dcards</td>\n",
              "      <td>63.000000</td>\n",
              "      <td>63</td>\n",
              "      <td>63</td>\n",
              "      <td>63</td>\n",
              "      <td>1</td>\n",
              "      <td>0.0</td>\n",
              "      <td>18.000000</td>\n",
              "    </tr>\n",
              "    <tr>\n",
              "      <th>32</th>\n",
              "      <td>deps</td>\n",
              "      <td>depositallinclusive/new/create</td>\n",
              "      <td>12.000000</td>\n",
              "      <td>12</td>\n",
              "      <td>12</td>\n",
              "      <td>12</td>\n",
              "      <td>1</td>\n",
              "      <td>0.0</td>\n",
              "      <td>10.000000</td>\n",
              "    </tr>\n",
              "    <tr>\n",
              "      <th>33</th>\n",
              "      <td>deps</td>\n",
              "      <td>depositclose/create</td>\n",
              "      <td>250.000000</td>\n",
              "      <td>250</td>\n",
              "      <td>250</td>\n",
              "      <td>250</td>\n",
              "      <td>1</td>\n",
              "      <td>0.0</td>\n",
              "      <td>18.000000</td>\n",
              "    </tr>\n",
              "    <tr>\n",
              "      <th>34</th>\n",
              "      <td>deps</td>\n",
              "      <td>paymentform</td>\n",
              "      <td>126.000000</td>\n",
              "      <td>126</td>\n",
              "      <td>126</td>\n",
              "      <td>126</td>\n",
              "      <td>1</td>\n",
              "      <td>0.0</td>\n",
              "      <td>39.000000</td>\n",
              "    </tr>\n",
              "    <tr>\n",
              "      <th>35</th>\n",
              "      <td>depsops</td>\n",
              "      <td>deps</td>\n",
              "      <td>29.000000</td>\n",
              "      <td>53</td>\n",
              "      <td>5</td>\n",
              "      <td>58</td>\n",
              "      <td>2</td>\n",
              "      <td>0.0</td>\n",
              "      <td>20.000000</td>\n",
              "    </tr>\n",
              "    <tr>\n",
              "      <th>36</th>\n",
              "      <td>main</td>\n",
              "      <td>accounts</td>\n",
              "      <td>16.000000</td>\n",
              "      <td>27</td>\n",
              "      <td>5</td>\n",
              "      <td>32</td>\n",
              "      <td>2</td>\n",
              "      <td>0.0</td>\n",
              "      <td>13.000000</td>\n",
              "    </tr>\n",
              "    <tr>\n",
              "      <th>37</th>\n",
              "      <td>main</td>\n",
              "      <td>autopayments/list</td>\n",
              "      <td>32.000000</td>\n",
              "      <td>32</td>\n",
              "      <td>32</td>\n",
              "      <td>32</td>\n",
              "      <td>1</td>\n",
              "      <td>0.0</td>\n",
              "      <td>1.000000</td>\n",
              "    </tr>\n",
              "    <tr>\n",
              "      <th>38</th>\n",
              "      <td>main</td>\n",
              "      <td>bonusprogram/mkbbonus/main</td>\n",
              "      <td>9.600000</td>\n",
              "      <td>26</td>\n",
              "      <td>5</td>\n",
              "      <td>96</td>\n",
              "      <td>10</td>\n",
              "      <td>0.0</td>\n",
              "      <td>21.300000</td>\n",
              "    </tr>\n",
              "    <tr>\n",
              "      <th>39</th>\n",
              "      <td>main</td>\n",
              "      <td>cardoperations</td>\n",
              "      <td>8.000000</td>\n",
              "      <td>10</td>\n",
              "      <td>5</td>\n",
              "      <td>48</td>\n",
              "      <td>6</td>\n",
              "      <td>0.0</td>\n",
              "      <td>5.666667</td>\n",
              "    </tr>\n",
              "    <tr>\n",
              "      <th>40</th>\n",
              "      <td>main</td>\n",
              "      <td>dcards</td>\n",
              "      <td>14.769231</td>\n",
              "      <td>31</td>\n",
              "      <td>9</td>\n",
              "      <td>192</td>\n",
              "      <td>13</td>\n",
              "      <td>0.0</td>\n",
              "      <td>8.076923</td>\n",
              "    </tr>\n",
              "    <tr>\n",
              "      <th>41</th>\n",
              "      <td>main</td>\n",
              "      <td>depositallinclusive/new/create</td>\n",
              "      <td>99.000000</td>\n",
              "      <td>107</td>\n",
              "      <td>91</td>\n",
              "      <td>198</td>\n",
              "      <td>2</td>\n",
              "      <td>0.0</td>\n",
              "      <td>7.500000</td>\n",
              "    </tr>\n",
              "    <tr>\n",
              "      <th>42</th>\n",
              "      <td>main</td>\n",
              "      <td>deps</td>\n",
              "      <td>25.333333</td>\n",
              "      <td>40</td>\n",
              "      <td>11</td>\n",
              "      <td>76</td>\n",
              "      <td>3</td>\n",
              "      <td>0.0</td>\n",
              "      <td>10.333333</td>\n",
              "    </tr>\n",
              "    <tr>\n",
              "      <th>43</th>\n",
              "      <td>main</td>\n",
              "      <td>depsops</td>\n",
              "      <td>66.000000</td>\n",
              "      <td>101</td>\n",
              "      <td>31</td>\n",
              "      <td>132</td>\n",
              "      <td>2</td>\n",
              "      <td>0.0</td>\n",
              "      <td>1.000000</td>\n",
              "    </tr>\n",
              "    <tr>\n",
              "      <th>44</th>\n",
              "      <td>main</td>\n",
              "      <td>main</td>\n",
              "      <td>130.333333</td>\n",
              "      <td>223</td>\n",
              "      <td>18</td>\n",
              "      <td>391</td>\n",
              "      <td>3</td>\n",
              "      <td>1.0</td>\n",
              "      <td>21.333333</td>\n",
              "    </tr>\n",
              "    <tr>\n",
              "      <th>45</th>\n",
              "      <td>main</td>\n",
              "      <td>ops</td>\n",
              "      <td>14.250000</td>\n",
              "      <td>20</td>\n",
              "      <td>7</td>\n",
              "      <td>57</td>\n",
              "      <td>4</td>\n",
              "      <td>0.0</td>\n",
              "      <td>19.000000</td>\n",
              "    </tr>\n",
              "    <tr>\n",
              "      <th>46</th>\n",
              "      <td>main</td>\n",
              "      <td>paymentform</td>\n",
              "      <td>39.333333</td>\n",
              "      <td>91</td>\n",
              "      <td>11</td>\n",
              "      <td>118</td>\n",
              "      <td>3</td>\n",
              "      <td>0.0</td>\n",
              "      <td>27.666667</td>\n",
              "    </tr>\n",
              "    <tr>\n",
              "      <th>47</th>\n",
              "      <td>ops</td>\n",
              "      <td>accounts</td>\n",
              "      <td>12.500000</td>\n",
              "      <td>16</td>\n",
              "      <td>9</td>\n",
              "      <td>25</td>\n",
              "      <td>2</td>\n",
              "      <td>0.0</td>\n",
              "      <td>24.500000</td>\n",
              "    </tr>\n",
              "    <tr>\n",
              "      <th>48</th>\n",
              "      <td>ops</td>\n",
              "      <td>main</td>\n",
              "      <td>4.500000</td>\n",
              "      <td>6</td>\n",
              "      <td>3</td>\n",
              "      <td>9</td>\n",
              "      <td>2</td>\n",
              "      <td>0.0</td>\n",
              "      <td>33.000000</td>\n",
              "    </tr>\n",
              "    <tr>\n",
              "      <th>49</th>\n",
              "      <td>ops</td>\n",
              "      <td>ops</td>\n",
              "      <td>4.800000</td>\n",
              "      <td>15</td>\n",
              "      <td>2</td>\n",
              "      <td>24</td>\n",
              "      <td>5</td>\n",
              "      <td>1.0</td>\n",
              "      <td>4.000000</td>\n",
              "    </tr>\n",
              "    <tr>\n",
              "      <th>50</th>\n",
              "      <td>paymentconfirmation</td>\n",
              "      <td>complete</td>\n",
              "      <td>11.571429</td>\n",
              "      <td>41</td>\n",
              "      <td>5</td>\n",
              "      <td>81</td>\n",
              "      <td>7</td>\n",
              "      <td>0.0</td>\n",
              "      <td>23.000000</td>\n",
              "    </tr>\n",
              "    <tr>\n",
              "      <th>51</th>\n",
              "      <td>paymentform</td>\n",
              "      <td>main</td>\n",
              "      <td>77.000000</td>\n",
              "      <td>130</td>\n",
              "      <td>24</td>\n",
              "      <td>154</td>\n",
              "      <td>2</td>\n",
              "      <td>0.0</td>\n",
              "      <td>24.000000</td>\n",
              "    </tr>\n",
              "    <tr>\n",
              "      <th>52</th>\n",
              "      <td>paymentform</td>\n",
              "      <td>paymentconfirmation</td>\n",
              "      <td>48.571429</td>\n",
              "      <td>182</td>\n",
              "      <td>17</td>\n",
              "      <td>340</td>\n",
              "      <td>7</td>\n",
              "      <td>0.0</td>\n",
              "      <td>22.000000</td>\n",
              "    </tr>\n",
              "    <tr>\n",
              "      <th>53</th>\n",
              "      <td>paymentservices/confirmation</td>\n",
              "      <td>complete</td>\n",
              "      <td>59.000000</td>\n",
              "      <td>59</td>\n",
              "      <td>59</td>\n",
              "      <td>59</td>\n",
              "      <td>1</td>\n",
              "      <td>0.0</td>\n",
              "      <td>4.000000</td>\n",
              "    </tr>\n",
              "    <tr>\n",
              "      <th>54</th>\n",
              "      <td>paymentservices/create</td>\n",
              "      <td>paymentservices/confirmation</td>\n",
              "      <td>70.000000</td>\n",
              "      <td>70</td>\n",
              "      <td>70</td>\n",
              "      <td>70</td>\n",
              "      <td>1</td>\n",
              "      <td>0.0</td>\n",
              "      <td>3.000000</td>\n",
              "    </tr>\n",
              "  </tbody>\n",
              "</table>\n",
              "</div>"
            ],
            "text/plain": [
              "                                        url_start  \\\n",
              "0                                        accounts   \n",
              "1                                        accounts   \n",
              "2                                        accounts   \n",
              "3                                        accounts   \n",
              "4                               autopayments/list   \n",
              "5   bonusprogram/mkbbonus/compensate/confirmation   \n",
              "6         bonusprogram/mkbbonus/compensate/create   \n",
              "7         bonusprogram/mkbbonus/compensate/create   \n",
              "8         bonusprogram/mkbbonus/compensate/create   \n",
              "9         bonusprogram/mkbbonus/compensate/create   \n",
              "10                     bonusprogram/mkbbonus/main   \n",
              "11                     bonusprogram/mkbbonus/main   \n",
              "12                     bonusprogram/mkbbonus/main   \n",
              "13                                 cardoperations   \n",
              "14                                 cardoperations   \n",
              "15                                 cardoperations   \n",
              "16                                 cardoperations   \n",
              "17                                 cardoperations   \n",
              "18                                 cardoperations   \n",
              "19                                         dcards   \n",
              "20                                         dcards   \n",
              "21                                         dcards   \n",
              "22                                         dcards   \n",
              "23                 depositallinclusive/new/create   \n",
              "24                 depositallinclusive/new/create   \n",
              "25                      depositclose/confirmation   \n",
              "26                            depositclose/create   \n",
              "27                     depositcommon/confirmation   \n",
              "28                           depositcommon/create   \n",
              "29                           depositcommon/create   \n",
              "30                                           deps   \n",
              "31                                           deps   \n",
              "32                                           deps   \n",
              "33                                           deps   \n",
              "34                                           deps   \n",
              "35                                        depsops   \n",
              "36                                           main   \n",
              "37                                           main   \n",
              "38                                           main   \n",
              "39                                           main   \n",
              "40                                           main   \n",
              "41                                           main   \n",
              "42                                           main   \n",
              "43                                           main   \n",
              "44                                           main   \n",
              "45                                           main   \n",
              "46                                           main   \n",
              "47                                            ops   \n",
              "48                                            ops   \n",
              "49                                            ops   \n",
              "50                            paymentconfirmation   \n",
              "51                                    paymentform   \n",
              "52                                    paymentform   \n",
              "53                   paymentservices/confirmation   \n",
              "54                         paymentservices/create   \n",
              "\n",
              "                                          url_end   diff_mean  diff_max  \\\n",
              "0                                          dcards    5.000000         6   \n",
              "1                                            deps   44.500000        59   \n",
              "2                                            main   39.000000        39   \n",
              "3                                     paymentform   17.000000        20   \n",
              "4                          paymentservices/create    8.000000         8   \n",
              "5                                        complete    8.000000         8   \n",
              "6   bonusprogram/mkbbonus/compensate/confirmation   13.000000        13   \n",
              "7         bonusprogram/mkbbonus/compensate/create    3.000000         6   \n",
              "8                      bonusprogram/mkbbonus/main   30.666667        67   \n",
              "9                                            main  746.000000       746   \n",
              "10        bonusprogram/mkbbonus/compensate/create   80.800000       181   \n",
              "11                                         dcards   54.000000        54   \n",
              "12                                           main   55.800000        74   \n",
              "13                                       accounts   27.333333        39   \n",
              "14                     bonusprogram/mkbbonus/main   53.000000        53   \n",
              "15                                 cardoperations   11.714286        17   \n",
              "16                                         dcards    5.000000         5   \n",
              "17                                           main  150.000000       150   \n",
              "18                                    paymentform   50.000000        50   \n",
              "19                                       accounts    9.000000         9   \n",
              "20                                 cardoperations    9.333333        19   \n",
              "21                                         dcards    1.000000         1   \n",
              "22                                           main    6.333333        10   \n",
              "23                           depositcommon/create   28.000000        50   \n",
              "24                                           main   25.500000        33   \n",
              "25                                           main   68.000000        68   \n",
              "26                      depositclose/confirmation   40.000000        40   \n",
              "27                                       complete  188.000000       188   \n",
              "28                 depositallinclusive/new/create   30.000000        30   \n",
              "29                     depositcommon/confirmation   89.000000        89   \n",
              "30                                       accounts   31.500000        44   \n",
              "31                                         dcards   63.000000        63   \n",
              "32                 depositallinclusive/new/create   12.000000        12   \n",
              "33                            depositclose/create  250.000000       250   \n",
              "34                                    paymentform  126.000000       126   \n",
              "35                                           deps   29.000000        53   \n",
              "36                                       accounts   16.000000        27   \n",
              "37                              autopayments/list   32.000000        32   \n",
              "38                     bonusprogram/mkbbonus/main    9.600000        26   \n",
              "39                                 cardoperations    8.000000        10   \n",
              "40                                         dcards   14.769231        31   \n",
              "41                 depositallinclusive/new/create   99.000000       107   \n",
              "42                                           deps   25.333333        40   \n",
              "43                                        depsops   66.000000       101   \n",
              "44                                           main  130.333333       223   \n",
              "45                                            ops   14.250000        20   \n",
              "46                                    paymentform   39.333333        91   \n",
              "47                                       accounts   12.500000        16   \n",
              "48                                           main    4.500000         6   \n",
              "49                                            ops    4.800000        15   \n",
              "50                                       complete   11.571429        41   \n",
              "51                                           main   77.000000       130   \n",
              "52                            paymentconfirmation   48.571429       182   \n",
              "53                                       complete   59.000000        59   \n",
              "54                   paymentservices/confirmation   70.000000        70   \n",
              "\n",
              "    diff_min  diff_sum  qty_rel_all  is_reload  process_order_mean  \n",
              "0          4        10            2        0.0           23.500000  \n",
              "1         30        89            2        0.0           12.500000  \n",
              "2         39        39            1        0.0            4.000000  \n",
              "3         15        51            3        0.0           14.000000  \n",
              "4          8         8            1        0.0            2.000000  \n",
              "5          8         8            1        0.0           16.000000  \n",
              "6         13        13            1        0.0           15.000000  \n",
              "7          1         9            3        1.0           13.000000  \n",
              "8          7        92            3        0.0           23.666667  \n",
              "9        746       746            1        0.0            9.000000  \n",
              "10         6       404            5        0.0           17.400000  \n",
              "11        54        54            1        0.0           19.000000  \n",
              "12        30       279            5        0.0           26.600000  \n",
              "13         9        82            3        0.0           22.666667  \n",
              "14        53        53            1        0.0           18.000000  \n",
              "15         9        82            7        1.0           12.428571  \n",
              "16         5         5            1        0.0            5.000000  \n",
              "17       150       150            1        0.0            9.000000  \n",
              "18        50        50            1        0.0           25.000000  \n",
              "19         9         9            1        0.0           28.000000  \n",
              "20         2        28            3        0.0           24.333333  \n",
              "21         1         1            1        1.0           35.000000  \n",
              "22         3        57            9        0.0           23.777778  \n",
              "23         6        56            2        0.0           20.000000  \n",
              "24        18        51            2        0.0           14.000000  \n",
              "25        68        68            1        0.0           20.000000  \n",
              "26        40        40            1        0.0           19.000000  \n",
              "27       188       188            1        0.0           31.000000  \n",
              "28        30        30            1        0.0           12.000000  \n",
              "29        89        89            1        0.0           30.000000  \n",
              "30        19        63            2        0.0            4.500000  \n",
              "31        63        63            1        0.0           18.000000  \n",
              "32        12        12            1        0.0           10.000000  \n",
              "33       250       250            1        0.0           18.000000  \n",
              "34       126       126            1        0.0           39.000000  \n",
              "35         5        58            2        0.0           20.000000  \n",
              "36         5        32            2        0.0           13.000000  \n",
              "37        32        32            1        0.0            1.000000  \n",
              "38         5        96           10        0.0           21.300000  \n",
              "39         5        48            6        0.0            5.666667  \n",
              "40         9       192           13        0.0            8.076923  \n",
              "41        91       198            2        0.0            7.500000  \n",
              "42        11        76            3        0.0           10.333333  \n",
              "43        31       132            2        0.0            1.000000  \n",
              "44        18       391            3        1.0           21.333333  \n",
              "45         7        57            4        0.0           19.000000  \n",
              "46        11       118            3        0.0           27.666667  \n",
              "47         9        25            2        0.0           24.500000  \n",
              "48         3         9            2        0.0           33.000000  \n",
              "49         2        24            5        1.0            4.000000  \n",
              "50         5        81            7        0.0           23.000000  \n",
              "51        24       154            2        0.0           24.000000  \n",
              "52        17       340            7        0.0           22.000000  \n",
              "53        59        59            1        0.0            4.000000  \n",
              "54        70        70            1        0.0            3.000000  "
            ]
          },
          "execution_count": 23,
          "metadata": {},
          "output_type": "execute_result"
        }
      ],
      "source": [
        "table_metrics"
      ]
    },
    {
      "cell_type": "code",
      "execution_count": 30,
      "metadata": {
        "id": "ck6n9RNP67_m"
      },
      "outputs": [
        {
          "name": "stdout",
          "output_type": "stream",
          "text": [
            "50\n",
            "50\n",
            "50\n",
            "[11, 1, 9, 9, 17, 21, 11, 19, 8, 0, 23, 12, 11, 11, 11, 11, 18, 0, 15, 8, 8, 11, 23, 12, 11, 11, 11, 11, 11, 19, 3, 23, 12, 11, 23, 11, 23, 12, 11, 18, 20, 2, 10, 11, 23, 12, 9, 17, 21, 11, 16, 8, 15, 11, 8, 15, 15, 8, 0, 4, 11, 11, 15, 11, 11, 18, 8, 0, 8, 15, 11, 7, 11, 18, 0, 8, 15, 11, 3, 14, 11, 22, 22, 6, 13, 11, 8, 0, 22, 6, 13]\n",
            "[1, 9, 9, 17, 21, 5, 19, 8, 0, 23, 12, 11, 11, 11, 11, 18, 0, 15, 8, 8, 11, 23, 12, 5, 11, 11, 11, 11, 19, 3, 23, 12, 5, 23, 11, 23, 12, 5, 18, 20, 2, 10, 5, 23, 12, 5, 17, 21, 5, 16, 8, 15, 11, 8, 15, 15, 8, 0, 4, 11, 11, 15, 11, 16, 18, 8, 0, 8, 15, 11, 7, 11, 18, 0, 8, 15, 11, 3, 14, 5, 22, 22, 6, 13, 5, 8, 0, 22, 6, 13, 5]\n",
            "71\n",
            "91\n",
            "91\n",
            "50\n"
          ]
        },
        {
          "name": "stderr",
          "output_type": "stream",
          "text": [
            "C:\\Users\\hp\\AppData\\Local\\Temp\\ipykernel_35380\\1197727688.py:51: SettingWithCopyWarning:\n",
            "\n",
            "\n",
            "A value is trying to be set on a copy of a slice from a DataFrame.\n",
            "Try using .loc[row_indexer,col_indexer] = value instead\n",
            "\n",
            "See the caveats in the documentation: https://pandas.pydata.org/pandas-docs/stable/user_guide/indexing.html#returning-a-view-versus-a-copy\n",
            "\n",
            "C:\\Users\\hp\\AppData\\Local\\Temp\\ipykernel_35380\\1197727688.py:52: SettingWithCopyWarning:\n",
            "\n",
            "\n",
            "A value is trying to be set on a copy of a slice from a DataFrame.\n",
            "Try using .loc[row_indexer,col_indexer] = value instead\n",
            "\n",
            "See the caveats in the documentation: https://pandas.pydata.org/pandas-docs/stable/user_guide/indexing.html#returning-a-view-versus-a-copy\n",
            "\n",
            "C:\\Users\\hp\\AppData\\Local\\Temp\\ipykernel_35380\\1197727688.py:13: SettingWithCopyWarning:\n",
            "\n",
            "\n",
            "A value is trying to be set on a copy of a slice from a DataFrame.\n",
            "Try using .loc[row_indexer,col_indexer] = value instead\n",
            "\n",
            "See the caveats in the documentation: https://pandas.pydata.org/pandas-docs/stable/user_guide/indexing.html#returning-a-view-versus-a-copy\n",
            "\n",
            "C:\\Users\\hp\\AppData\\Local\\Temp\\ipykernel_35380\\1197727688.py:14: SettingWithCopyWarning:\n",
            "\n",
            "\n",
            "A value is trying to be set on a copy of a slice from a DataFrame.\n",
            "Try using .loc[row_indexer,col_indexer] = value instead\n",
            "\n",
            "See the caveats in the documentation: https://pandas.pydata.org/pandas-docs/stable/user_guide/indexing.html#returning-a-view-versus-a-copy\n",
            "\n"
          ]
        },
        {
          "data": {
            "application/vnd.plotly.v1+json": {
              "config": {
                "plotlyServerURL": "https://plot.ly"
              },
              "data": [
                {
                  "link": {
                    "source": [
                      11,
                      1,
                      9,
                      9,
                      17,
                      21,
                      11,
                      19,
                      8,
                      0,
                      23,
                      12,
                      11,
                      11,
                      11,
                      11,
                      18,
                      0,
                      15,
                      8,
                      8,
                      11,
                      23,
                      12,
                      11,
                      11,
                      11,
                      11,
                      11,
                      19,
                      3,
                      23,
                      12,
                      11,
                      23,
                      11,
                      23,
                      12,
                      11,
                      18,
                      20,
                      2,
                      10,
                      11,
                      23,
                      12,
                      9,
                      17,
                      21,
                      11,
                      16,
                      8,
                      15,
                      11,
                      8,
                      15,
                      15,
                      8,
                      0,
                      4,
                      11,
                      11,
                      15,
                      11,
                      11,
                      18,
                      8,
                      0,
                      8,
                      15,
                      11,
                      7,
                      11,
                      18,
                      0,
                      8,
                      15,
                      11,
                      3,
                      14,
                      11,
                      22,
                      22,
                      6,
                      13,
                      11,
                      8,
                      0,
                      22,
                      6,
                      13
                    ],
                    "target": [
                      1,
                      9,
                      9,
                      17,
                      21,
                      5,
                      19,
                      8,
                      0,
                      23,
                      12,
                      11,
                      11,
                      11,
                      11,
                      18,
                      0,
                      15,
                      8,
                      8,
                      11,
                      23,
                      12,
                      5,
                      11,
                      11,
                      11,
                      11,
                      19,
                      3,
                      23,
                      12,
                      5,
                      23,
                      11,
                      23,
                      12,
                      5,
                      18,
                      20,
                      2,
                      10,
                      5,
                      23,
                      12,
                      5,
                      17,
                      21,
                      5,
                      16,
                      8,
                      15,
                      11,
                      8,
                      15,
                      15,
                      8,
                      0,
                      4,
                      11,
                      11,
                      15,
                      11,
                      16,
                      18,
                      8,
                      0,
                      8,
                      15,
                      11,
                      7,
                      11,
                      18,
                      0,
                      8,
                      15,
                      11,
                      3,
                      14,
                      5,
                      22,
                      22,
                      6,
                      13,
                      5,
                      8,
                      0,
                      22,
                      6,
                      13,
                      5
                    ],
                    "value": [
                      1,
                      1,
                      2,
                      1,
                      1,
                      1,
                      1,
                      2,
                      1,
                      1,
                      1,
                      1,
                      2,
                      2,
                      2,
                      1,
                      1,
                      2,
                      1,
                      1,
                      1,
                      1,
                      4,
                      1,
                      1,
                      1,
                      8,
                      2,
                      1,
                      2,
                      4,
                      2,
                      1,
                      4,
                      1,
                      1,
                      4,
                      4,
                      2,
                      1,
                      1,
                      1,
                      4,
                      1,
                      1,
                      5,
                      2,
                      2,
                      1,
                      1
                    ]
                  },
                  "node": {
                    "color": "blue",
                    "label": [
                      "autopayments/all/select",
                      "deps",
                      "cardactivation/create",
                      "fps/create",
                      "loans",
                      "complete",
                      "paymentservices/create",
                      "viewsettings",
                      "news",
                      "depositallinclusive/new/create",
                      "cardactivation/confirmation",
                      "main",
                      "paymentconfirmation",
                      "paymentservices/confirmation",
                      "fps/confirmation",
                      "operations",
                      "purposeloanaddrequest/calculator",
                      "depositcommon/create",
                      "cardoperations",
                      "ops",
                      "dcards",
                      "depositcommon/confirmation",
                      "directory",
                      "paymentform"
                    ],
                    "line": {
                      "color": "black",
                      "width": 0.5
                    },
                    "pad": 15,
                    "thickness": 20
                  },
                  "type": "sankey"
                }
              ],
              "layout": {
                "template": {
                  "data": {
                    "bar": [
                      {
                        "error_x": {
                          "color": "#2a3f5f"
                        },
                        "error_y": {
                          "color": "#2a3f5f"
                        },
                        "marker": {
                          "line": {
                            "color": "#E5ECF6",
                            "width": 0.5
                          },
                          "pattern": {
                            "fillmode": "overlay",
                            "size": 10,
                            "solidity": 0.2
                          }
                        },
                        "type": "bar"
                      }
                    ],
                    "barpolar": [
                      {
                        "marker": {
                          "line": {
                            "color": "#E5ECF6",
                            "width": 0.5
                          },
                          "pattern": {
                            "fillmode": "overlay",
                            "size": 10,
                            "solidity": 0.2
                          }
                        },
                        "type": "barpolar"
                      }
                    ],
                    "carpet": [
                      {
                        "aaxis": {
                          "endlinecolor": "#2a3f5f",
                          "gridcolor": "white",
                          "linecolor": "white",
                          "minorgridcolor": "white",
                          "startlinecolor": "#2a3f5f"
                        },
                        "baxis": {
                          "endlinecolor": "#2a3f5f",
                          "gridcolor": "white",
                          "linecolor": "white",
                          "minorgridcolor": "white",
                          "startlinecolor": "#2a3f5f"
                        },
                        "type": "carpet"
                      }
                    ],
                    "choropleth": [
                      {
                        "colorbar": {
                          "outlinewidth": 0,
                          "ticks": ""
                        },
                        "type": "choropleth"
                      }
                    ],
                    "contour": [
                      {
                        "colorbar": {
                          "outlinewidth": 0,
                          "ticks": ""
                        },
                        "colorscale": [
                          [
                            0,
                            "#0d0887"
                          ],
                          [
                            0.1111111111111111,
                            "#46039f"
                          ],
                          [
                            0.2222222222222222,
                            "#7201a8"
                          ],
                          [
                            0.3333333333333333,
                            "#9c179e"
                          ],
                          [
                            0.4444444444444444,
                            "#bd3786"
                          ],
                          [
                            0.5555555555555556,
                            "#d8576b"
                          ],
                          [
                            0.6666666666666666,
                            "#ed7953"
                          ],
                          [
                            0.7777777777777778,
                            "#fb9f3a"
                          ],
                          [
                            0.8888888888888888,
                            "#fdca26"
                          ],
                          [
                            1,
                            "#f0f921"
                          ]
                        ],
                        "type": "contour"
                      }
                    ],
                    "contourcarpet": [
                      {
                        "colorbar": {
                          "outlinewidth": 0,
                          "ticks": ""
                        },
                        "type": "contourcarpet"
                      }
                    ],
                    "heatmap": [
                      {
                        "colorbar": {
                          "outlinewidth": 0,
                          "ticks": ""
                        },
                        "colorscale": [
                          [
                            0,
                            "#0d0887"
                          ],
                          [
                            0.1111111111111111,
                            "#46039f"
                          ],
                          [
                            0.2222222222222222,
                            "#7201a8"
                          ],
                          [
                            0.3333333333333333,
                            "#9c179e"
                          ],
                          [
                            0.4444444444444444,
                            "#bd3786"
                          ],
                          [
                            0.5555555555555556,
                            "#d8576b"
                          ],
                          [
                            0.6666666666666666,
                            "#ed7953"
                          ],
                          [
                            0.7777777777777778,
                            "#fb9f3a"
                          ],
                          [
                            0.8888888888888888,
                            "#fdca26"
                          ],
                          [
                            1,
                            "#f0f921"
                          ]
                        ],
                        "type": "heatmap"
                      }
                    ],
                    "heatmapgl": [
                      {
                        "colorbar": {
                          "outlinewidth": 0,
                          "ticks": ""
                        },
                        "colorscale": [
                          [
                            0,
                            "#0d0887"
                          ],
                          [
                            0.1111111111111111,
                            "#46039f"
                          ],
                          [
                            0.2222222222222222,
                            "#7201a8"
                          ],
                          [
                            0.3333333333333333,
                            "#9c179e"
                          ],
                          [
                            0.4444444444444444,
                            "#bd3786"
                          ],
                          [
                            0.5555555555555556,
                            "#d8576b"
                          ],
                          [
                            0.6666666666666666,
                            "#ed7953"
                          ],
                          [
                            0.7777777777777778,
                            "#fb9f3a"
                          ],
                          [
                            0.8888888888888888,
                            "#fdca26"
                          ],
                          [
                            1,
                            "#f0f921"
                          ]
                        ],
                        "type": "heatmapgl"
                      }
                    ],
                    "histogram": [
                      {
                        "marker": {
                          "pattern": {
                            "fillmode": "overlay",
                            "size": 10,
                            "solidity": 0.2
                          }
                        },
                        "type": "histogram"
                      }
                    ],
                    "histogram2d": [
                      {
                        "colorbar": {
                          "outlinewidth": 0,
                          "ticks": ""
                        },
                        "colorscale": [
                          [
                            0,
                            "#0d0887"
                          ],
                          [
                            0.1111111111111111,
                            "#46039f"
                          ],
                          [
                            0.2222222222222222,
                            "#7201a8"
                          ],
                          [
                            0.3333333333333333,
                            "#9c179e"
                          ],
                          [
                            0.4444444444444444,
                            "#bd3786"
                          ],
                          [
                            0.5555555555555556,
                            "#d8576b"
                          ],
                          [
                            0.6666666666666666,
                            "#ed7953"
                          ],
                          [
                            0.7777777777777778,
                            "#fb9f3a"
                          ],
                          [
                            0.8888888888888888,
                            "#fdca26"
                          ],
                          [
                            1,
                            "#f0f921"
                          ]
                        ],
                        "type": "histogram2d"
                      }
                    ],
                    "histogram2dcontour": [
                      {
                        "colorbar": {
                          "outlinewidth": 0,
                          "ticks": ""
                        },
                        "colorscale": [
                          [
                            0,
                            "#0d0887"
                          ],
                          [
                            0.1111111111111111,
                            "#46039f"
                          ],
                          [
                            0.2222222222222222,
                            "#7201a8"
                          ],
                          [
                            0.3333333333333333,
                            "#9c179e"
                          ],
                          [
                            0.4444444444444444,
                            "#bd3786"
                          ],
                          [
                            0.5555555555555556,
                            "#d8576b"
                          ],
                          [
                            0.6666666666666666,
                            "#ed7953"
                          ],
                          [
                            0.7777777777777778,
                            "#fb9f3a"
                          ],
                          [
                            0.8888888888888888,
                            "#fdca26"
                          ],
                          [
                            1,
                            "#f0f921"
                          ]
                        ],
                        "type": "histogram2dcontour"
                      }
                    ],
                    "mesh3d": [
                      {
                        "colorbar": {
                          "outlinewidth": 0,
                          "ticks": ""
                        },
                        "type": "mesh3d"
                      }
                    ],
                    "parcoords": [
                      {
                        "line": {
                          "colorbar": {
                            "outlinewidth": 0,
                            "ticks": ""
                          }
                        },
                        "type": "parcoords"
                      }
                    ],
                    "pie": [
                      {
                        "automargin": true,
                        "type": "pie"
                      }
                    ],
                    "scatter": [
                      {
                        "fillpattern": {
                          "fillmode": "overlay",
                          "size": 10,
                          "solidity": 0.2
                        },
                        "type": "scatter"
                      }
                    ],
                    "scatter3d": [
                      {
                        "line": {
                          "colorbar": {
                            "outlinewidth": 0,
                            "ticks": ""
                          }
                        },
                        "marker": {
                          "colorbar": {
                            "outlinewidth": 0,
                            "ticks": ""
                          }
                        },
                        "type": "scatter3d"
                      }
                    ],
                    "scattercarpet": [
                      {
                        "marker": {
                          "colorbar": {
                            "outlinewidth": 0,
                            "ticks": ""
                          }
                        },
                        "type": "scattercarpet"
                      }
                    ],
                    "scattergeo": [
                      {
                        "marker": {
                          "colorbar": {
                            "outlinewidth": 0,
                            "ticks": ""
                          }
                        },
                        "type": "scattergeo"
                      }
                    ],
                    "scattergl": [
                      {
                        "marker": {
                          "colorbar": {
                            "outlinewidth": 0,
                            "ticks": ""
                          }
                        },
                        "type": "scattergl"
                      }
                    ],
                    "scattermapbox": [
                      {
                        "marker": {
                          "colorbar": {
                            "outlinewidth": 0,
                            "ticks": ""
                          }
                        },
                        "type": "scattermapbox"
                      }
                    ],
                    "scatterpolar": [
                      {
                        "marker": {
                          "colorbar": {
                            "outlinewidth": 0,
                            "ticks": ""
                          }
                        },
                        "type": "scatterpolar"
                      }
                    ],
                    "scatterpolargl": [
                      {
                        "marker": {
                          "colorbar": {
                            "outlinewidth": 0,
                            "ticks": ""
                          }
                        },
                        "type": "scatterpolargl"
                      }
                    ],
                    "scatterternary": [
                      {
                        "marker": {
                          "colorbar": {
                            "outlinewidth": 0,
                            "ticks": ""
                          }
                        },
                        "type": "scatterternary"
                      }
                    ],
                    "surface": [
                      {
                        "colorbar": {
                          "outlinewidth": 0,
                          "ticks": ""
                        },
                        "colorscale": [
                          [
                            0,
                            "#0d0887"
                          ],
                          [
                            0.1111111111111111,
                            "#46039f"
                          ],
                          [
                            0.2222222222222222,
                            "#7201a8"
                          ],
                          [
                            0.3333333333333333,
                            "#9c179e"
                          ],
                          [
                            0.4444444444444444,
                            "#bd3786"
                          ],
                          [
                            0.5555555555555556,
                            "#d8576b"
                          ],
                          [
                            0.6666666666666666,
                            "#ed7953"
                          ],
                          [
                            0.7777777777777778,
                            "#fb9f3a"
                          ],
                          [
                            0.8888888888888888,
                            "#fdca26"
                          ],
                          [
                            1,
                            "#f0f921"
                          ]
                        ],
                        "type": "surface"
                      }
                    ],
                    "table": [
                      {
                        "cells": {
                          "fill": {
                            "color": "#EBF0F8"
                          },
                          "line": {
                            "color": "white"
                          }
                        },
                        "header": {
                          "fill": {
                            "color": "#C8D4E3"
                          },
                          "line": {
                            "color": "white"
                          }
                        },
                        "type": "table"
                      }
                    ]
                  },
                  "layout": {
                    "annotationdefaults": {
                      "arrowcolor": "#2a3f5f",
                      "arrowhead": 0,
                      "arrowwidth": 1
                    },
                    "autotypenumbers": "strict",
                    "coloraxis": {
                      "colorbar": {
                        "outlinewidth": 0,
                        "ticks": ""
                      }
                    },
                    "colorscale": {
                      "diverging": [
                        [
                          0,
                          "#8e0152"
                        ],
                        [
                          0.1,
                          "#c51b7d"
                        ],
                        [
                          0.2,
                          "#de77ae"
                        ],
                        [
                          0.3,
                          "#f1b6da"
                        ],
                        [
                          0.4,
                          "#fde0ef"
                        ],
                        [
                          0.5,
                          "#f7f7f7"
                        ],
                        [
                          0.6,
                          "#e6f5d0"
                        ],
                        [
                          0.7,
                          "#b8e186"
                        ],
                        [
                          0.8,
                          "#7fbc41"
                        ],
                        [
                          0.9,
                          "#4d9221"
                        ],
                        [
                          1,
                          "#276419"
                        ]
                      ],
                      "sequential": [
                        [
                          0,
                          "#0d0887"
                        ],
                        [
                          0.1111111111111111,
                          "#46039f"
                        ],
                        [
                          0.2222222222222222,
                          "#7201a8"
                        ],
                        [
                          0.3333333333333333,
                          "#9c179e"
                        ],
                        [
                          0.4444444444444444,
                          "#bd3786"
                        ],
                        [
                          0.5555555555555556,
                          "#d8576b"
                        ],
                        [
                          0.6666666666666666,
                          "#ed7953"
                        ],
                        [
                          0.7777777777777778,
                          "#fb9f3a"
                        ],
                        [
                          0.8888888888888888,
                          "#fdca26"
                        ],
                        [
                          1,
                          "#f0f921"
                        ]
                      ],
                      "sequentialminus": [
                        [
                          0,
                          "#0d0887"
                        ],
                        [
                          0.1111111111111111,
                          "#46039f"
                        ],
                        [
                          0.2222222222222222,
                          "#7201a8"
                        ],
                        [
                          0.3333333333333333,
                          "#9c179e"
                        ],
                        [
                          0.4444444444444444,
                          "#bd3786"
                        ],
                        [
                          0.5555555555555556,
                          "#d8576b"
                        ],
                        [
                          0.6666666666666666,
                          "#ed7953"
                        ],
                        [
                          0.7777777777777778,
                          "#fb9f3a"
                        ],
                        [
                          0.8888888888888888,
                          "#fdca26"
                        ],
                        [
                          1,
                          "#f0f921"
                        ]
                      ]
                    },
                    "colorway": [
                      "#636efa",
                      "#EF553B",
                      "#00cc96",
                      "#ab63fa",
                      "#FFA15A",
                      "#19d3f3",
                      "#FF6692",
                      "#B6E880",
                      "#FF97FF",
                      "#FECB52"
                    ],
                    "font": {
                      "color": "#2a3f5f"
                    },
                    "geo": {
                      "bgcolor": "white",
                      "lakecolor": "white",
                      "landcolor": "#E5ECF6",
                      "showlakes": true,
                      "showland": true,
                      "subunitcolor": "white"
                    },
                    "hoverlabel": {
                      "align": "left"
                    },
                    "hovermode": "closest",
                    "mapbox": {
                      "style": "light"
                    },
                    "paper_bgcolor": "white",
                    "plot_bgcolor": "#E5ECF6",
                    "polar": {
                      "angularaxis": {
                        "gridcolor": "white",
                        "linecolor": "white",
                        "ticks": ""
                      },
                      "bgcolor": "#E5ECF6",
                      "radialaxis": {
                        "gridcolor": "white",
                        "linecolor": "white",
                        "ticks": ""
                      }
                    },
                    "scene": {
                      "xaxis": {
                        "backgroundcolor": "#E5ECF6",
                        "gridcolor": "white",
                        "gridwidth": 2,
                        "linecolor": "white",
                        "showbackground": true,
                        "ticks": "",
                        "zerolinecolor": "white"
                      },
                      "yaxis": {
                        "backgroundcolor": "#E5ECF6",
                        "gridcolor": "white",
                        "gridwidth": 2,
                        "linecolor": "white",
                        "showbackground": true,
                        "ticks": "",
                        "zerolinecolor": "white"
                      },
                      "zaxis": {
                        "backgroundcolor": "#E5ECF6",
                        "gridcolor": "white",
                        "gridwidth": 2,
                        "linecolor": "white",
                        "showbackground": true,
                        "ticks": "",
                        "zerolinecolor": "white"
                      }
                    },
                    "shapedefaults": {
                      "line": {
                        "color": "#2a3f5f"
                      }
                    },
                    "ternary": {
                      "aaxis": {
                        "gridcolor": "white",
                        "linecolor": "white",
                        "ticks": ""
                      },
                      "baxis": {
                        "gridcolor": "white",
                        "linecolor": "white",
                        "ticks": ""
                      },
                      "bgcolor": "#E5ECF6",
                      "caxis": {
                        "gridcolor": "white",
                        "linecolor": "white",
                        "ticks": ""
                      }
                    },
                    "title": {
                      "x": 0.05
                    },
                    "xaxis": {
                      "automargin": true,
                      "gridcolor": "white",
                      "linecolor": "white",
                      "ticks": "",
                      "title": {
                        "standoff": 15
                      },
                      "zerolinecolor": "white",
                      "zerolinewidth": 2
                    },
                    "yaxis": {
                      "automargin": true,
                      "gridcolor": "white",
                      "linecolor": "white",
                      "ticks": "",
                      "title": {
                        "standoff": 15
                      },
                      "zerolinecolor": "white",
                      "zerolinewidth": 2
                    }
                  }
                }
              }
            }
          },
          "metadata": {},
          "output_type": "display_data"
        }
      ],
      "source": [
        "import pandas as pd \n",
        "import random\n",
        "import plotly.graph_objects as go\n",
        "import numpy as np\n",
        "\n",
        "df = pd.read_csv('https://raw.githubusercontent.com/m3gaq/finodays_mkb/main/data/table_v4.zip')\n",
        "\n",
        "def get_metrics(df):\n",
        "    '''\n",
        "    return DataFrames:\n",
        "    metrics_node, metrics_relation \n",
        "    '''\n",
        "    df['time_stamp_start'] = pd.to_datetime(df.time_stamp_start)\n",
        "    df['time_stamp_end']   = pd.to_datetime(df.time_stamp_end)\n",
        "\n",
        "    metrics_relation = df.groupby(['url_start','url_end']).agg({'diff':['mean','max','min','sum','count'],'reload':['mean'], 'process_flag_num':['mean']})\n",
        "    metrics_relation.columns = [ '_'.join(col) for col in metrics_relation.columns]\n",
        "    metrics_relation = metrics_relation.rename(columns={'diff_count':'qty_rel_all','process_flag_num_mean':'process_order_mean','reload_mean':'is_reload'})\n",
        "    metrics_relation = metrics_relation.reset_index()\n",
        "\n",
        "    qty_all = df.groupby('url_start').count().rename(columns={'clientcode':'qty_all'})[['qty_all']]\n",
        "    qty_unique_user = df[['clientcode','url_start']].drop_duplicates().groupby('url_start').count().rename(columns={'clientcode':'qty_unique_user'})\n",
        "    qty_in = metrics_relation.reset_index().groupby('url_start').sum().rename(columns = {'qty_rel_all':'qty'})\n",
        "    qty_in.columns = qty_in.columns+'_in'\n",
        "    qty_out = metrics_relation.reset_index().groupby('url_end').sum().rename(columns = {'qty_rel_all':'qty'})\n",
        "    qty_out.columns = qty_out.columns+'_out'\n",
        "\n",
        "    metrics_node = pd.merge(qty_all,qty_unique_user,left_index=True, right_index=True, how = 'left')\n",
        "    metrics_node = pd.merge(metrics_node,qty_in,left_index=True, right_index=True, how = 'left')\n",
        "    metrics_node = pd.merge(metrics_node,qty_out,left_index=True, right_index=True, how = 'left')\n",
        "    metrics_node['qty_in_out_ratio'] = metrics_node.qty_in/metrics_node.qty_out\n",
        "    metrics_node = metrics_node.reset_index()\n",
        "\n",
        "    return metrics_node, metrics_relation\n",
        " \n",
        "np.random.state = 1\n",
        "n, metric = 5, 'Количество переходов с предыдущей страницы на следующую'\n",
        "df['clientcode'] = df['clientcode'].astype(int)\n",
        "randomlist = random.sample(list(df['clientcode']), n)\n",
        "df_random = df[df['clientcode'].isin(randomlist)]\n",
        "sources  = list(df_random.groupby(['url_start','url_end']).size().reset_index().rename(columns={0:'cnt_open'})['url_start'])\n",
        "targets = list(df_random.groupby(['url_start','url_end']).size().reset_index().rename(columns={0:'cnt_open'})['url_end'])\n",
        "cnt_open = list(df_random.groupby(['url_start','url_end']).size().reset_index().rename(columns={0:'cnt_open'})['cnt_open'])\n",
        "# cnt_unique =  list(df_random.groupby(['url_start','url_end']).clientcode.nunique().reset_index().rename(columns={'clientcode':'cnt_unique'})['cnt_unique'])\n",
        "unique_pages = list(set(sources + targets))\n",
        "numbers = range(0, len(unique_pages))\n",
        "print(len(sources))\n",
        "print(len(targets))\n",
        "print(len(cnt_open))\n",
        "d = dict(zip(unique_pages, numbers))\n",
        "df_random['source_id'] = df_random['url_start'].map(d)\n",
        "df_random['target_id'] = df_random['url_end'].map(d)\n",
        "print(list(df_random['source_id']))\n",
        "print(list(df_random['target_id']))\n",
        "print(len(cnt_metric))\n",
        "incoming = []\n",
        "outcoming = []\n",
        "for i in unique_pages:\n",
        "  a = sources.count(i)\n",
        "  b = targets.count(i)\n",
        "  incoming.append(a)\n",
        "  outcoming.append(b)\n",
        "\n",
        "data = {'Pages': unique_pages,\n",
        "        'Incoming': incoming, \n",
        "        'Outcoming': outcoming }\n",
        "df_new = pd.DataFrame(data)\n",
        "pages_bad= list(df_new[df_new['Incoming'] == df_new['Outcoming']]['Pages'])\n",
        "df_random['GB1'] = np.where(df_random['url_start'].isin(pages_bad), 'bad', 'good')\n",
        "df_random['GB2'] = df_random['GB1'].shift(-1)\n",
        "df_random['url_end_shift'] = df_random['url_end'].shift(-1)\n",
        "df_random['url_end_copy'] = np.where(df_random['GB2'] == 'bad', df_random['url_end_shift'], df_random['url_end'])\n",
        "df_random = df_random[df_random['GB1'] != 'bad']`\n",
        "\n",
        "# количество открытий и дальнейших переходов на другие страницы отображаются всегда\n",
        "# количество выходов -- в таблиеце\n",
        "\n",
        "table_metrics = get_metrics(df_random)[1]\n",
        "\n",
        "if metric == 'Количество переходов с предыдущей страницы на следующую':\n",
        "  cnt_metric = cnt_open\n",
        "\n",
        "if metric == 'Количество уникальных пользователей':\n",
        "  cnt_metric = cnt_unique\n",
        "\n",
        "if metric == 'Среднее время посещения страницы':\n",
        "  cnt_metric = table_metrics['diff_mean']\n",
        "\n",
        "if metric == 'Максимальное время посещения страницы':\n",
        "  cnt_metric = table_metrics['diff_max']\n",
        "\n",
        "if metric == 'Минимальное время посещения страницы':\n",
        "  cnt_metric = table_metrics['diff_min']\n",
        "\n",
        "if metric == 'Общее время посещения страницы':\n",
        "  cnt_metric = table_metrics['diff_sum']\n",
        "\n",
        "print(len(list(df_random['source_id'])))\n",
        "print(len(list(df_random['target_id'])))\n",
        "print(len(cnt_metric))\n",
        "fig = go.Figure(data=[go.Sankey(\n",
        "    node = dict(\n",
        "      pad = 15,\n",
        "      thickness = 20,\n",
        "      line = dict(color = \"black\", width = 0.5),\n",
        "      label = list(d.keys()),\n",
        "      color = \"blue\"\n",
        "    ),\n",
        "    link = dict(\n",
        "      source = list(df_random['source_id']),\n",
        "      target = list(df_random['target_id']),\n",
        "      value = cnt_metric\n",
        "  ))])\n",
        "\n",
        "# fig.update_layout(title_text=\"Basic Sankey Diagram\", font_size=10)\n",
        "fig.show()"
      ]
    },
    {
      "cell_type": "code",
      "execution_count": 28,
      "metadata": {},
      "outputs": [
        {
          "data": {
            "text/plain": [
              "{'autopayments/list': 0,\n",
              " 'deps': 1,\n",
              " 'cardactivation/create': 2,\n",
              " 'fps/create': 3,\n",
              " 'complete': 4,\n",
              " 'cardsmsinforming/disconnect/create': 5,\n",
              " 'systemsettings/selectsysoper': 6,\n",
              " 'info': 7,\n",
              " 'cardsmsinforming/disconnect/confirmation': 8,\n",
              " 'fps/settings/account/create': 9,\n",
              " 'fps/settings/main': 10,\n",
              " 'accounts': 11,\n",
              " 'news': 12,\n",
              " 'cardactivation/confirmation': 13,\n",
              " 'main': 14,\n",
              " 'paymentconfirmation': 15,\n",
              " 'fps/confirmation': 16,\n",
              " 'operations': 17,\n",
              " 'activatesecurecodescard/create': 18,\n",
              " 'cardoperations': 19,\n",
              " 'informingsettings/select': 20,\n",
              " 'ops': 21,\n",
              " 'dcards': 22,\n",
              " 'fps/settings/account/confirmation': 23,\n",
              " 'paymentform': 24}"
            ]
          },
          "execution_count": 28,
          "metadata": {},
          "output_type": "execute_result"
        }
      ],
      "source": [
        "d"
      ]
    },
    {
      "cell_type": "code",
      "execution_count": 24,
      "metadata": {},
      "outputs": [
        {
          "data": {
            "text/plain": [
              "[14.0,\n",
              " 0.0,\n",
              " nan,\n",
              " nan,\n",
              " 24.0,\n",
              " 15.0,\n",
              " 14.0,\n",
              " nan,\n",
              " 1.0,\n",
              " 11.0,\n",
              " 14.0,\n",
              " 1.0,\n",
              " 11.0,\n",
              " 24.0,\n",
              " 14.0,\n",
              " 1.0,\n",
              " nan,\n",
              " nan,\n",
              " nan,\n",
              " 14.0,\n",
              " nan,\n",
              " 14.0,\n",
              " 11.0,\n",
              " 1.0,\n",
              " nan,\n",
              " nan,\n",
              " 14.0,\n",
              " 14.0,\n",
              " 24.0,\n",
              " 15.0,\n",
              " 14.0,\n",
              " nan,\n",
              " 14.0,\n",
              " 24.0,\n",
              " 15.0,\n",
              " 14.0,\n",
              " nan,\n",
              " nan,\n",
              " nan,\n",
              " 14.0,\n",
              " 21.0,\n",
              " 14.0,\n",
              " 21.0,\n",
              " 14.0,\n",
              " 24.0,\n",
              " 15.0,\n",
              " 14.0,\n",
              " nan,\n",
              " 1.0,\n",
              " 24.0,\n",
              " 14.0,\n",
              " 21.0,\n",
              " 14.0,\n",
              " 21.0,\n",
              " 21.0,\n",
              " 21.0,\n",
              " 21.0,\n",
              " 21.0,\n",
              " 21.0,\n",
              " 11.0,\n",
              " 14.0,\n",
              " 19.0,\n",
              " 19.0,\n",
              " 11.0,\n",
              " 24.0,\n",
              " 15.0,\n",
              " 14.0,\n",
              " 14.0,\n",
              " 19.0,\n",
              " 19.0,\n",
              " 14.0,\n",
              " 11.0,\n",
              " 22.0,\n",
              " 14.0,\n",
              " nan,\n",
              " nan,\n",
              " nan,\n",
              " 14.0,\n",
              " 19.0,\n",
              " 19.0,\n",
              " nan,\n",
              " 22.0,\n",
              " 14.0,\n",
              " 14.0,\n",
              " 14.0,\n",
              " 19.0,\n",
              " 19.0,\n",
              " 24.0,\n",
              " 15.0,\n",
              " 22.0,\n",
              " 14.0,\n",
              " 19.0,\n",
              " 19.0,\n",
              " 11.0,\n",
              " 24.0,\n",
              " 15.0,\n",
              " 22.0,\n",
              " 19.0,\n",
              " 11.0,\n",
              " 22.0,\n",
              " 14.0,\n",
              " 22.0,\n",
              " 19.0,\n",
              " 19.0,\n",
              " 19.0,\n",
              " 22.0,\n",
              " 14.0,\n",
              " nan,\n",
              " nan,\n",
              " 14.0,\n",
              " nan,\n",
              " nan,\n",
              " nan,\n",
              " nan,\n",
              " nan,\n",
              " nan,\n",
              " 14.0,\n",
              " 1.0,\n",
              " 14.0,\n",
              " 14.0,\n",
              " 14.0,\n",
              " 22.0,\n",
              " 14.0,\n",
              " nan,\n",
              " nan,\n",
              " nan,\n",
              " 14.0,\n",
              " 14.0,\n",
              " 14.0,\n",
              " 22.0,\n",
              " 14.0,\n",
              " 14.0,\n",
              " 22.0,\n",
              " 14.0,\n",
              " nan,\n",
              " 14.0,\n",
              " 14.0,\n",
              " 22.0,\n",
              " 14.0,\n",
              " nan,\n",
              " nan,\n",
              " 14.0,\n",
              " 22.0,\n",
              " 22.0,\n",
              " 14.0,\n",
              " 14.0,\n",
              " 22.0,\n",
              " 14.0,\n",
              " nan,\n",
              " 14.0]"
            ]
          },
          "execution_count": 24,
          "metadata": {},
          "output_type": "execute_result"
        }
      ],
      "source": [
        "list(df_random['source_id'])"
      ]
    },
    {
      "cell_type": "code",
      "execution_count": 10,
      "metadata": {},
      "outputs": [
        {
          "name": "stdout",
          "output_type": "stream",
          "text": [
            "148\n",
            "148\n",
            "81\n"
          ]
        },
        {
          "name": "stderr",
          "output_type": "stream",
          "text": [
            "C:\\Users\\hp\\AppData\\Local\\Temp\\ipykernel_35380\\3869898706.py:47: SettingWithCopyWarning:\n",
            "\n",
            "\n",
            "A value is trying to be set on a copy of a slice from a DataFrame.\n",
            "Try using .loc[row_indexer,col_indexer] = value instead\n",
            "\n",
            "See the caveats in the documentation: https://pandas.pydata.org/pandas-docs/stable/user_guide/indexing.html#returning-a-view-versus-a-copy\n",
            "\n",
            "C:\\Users\\hp\\AppData\\Local\\Temp\\ipykernel_35380\\3869898706.py:48: SettingWithCopyWarning:\n",
            "\n",
            "\n",
            "A value is trying to be set on a copy of a slice from a DataFrame.\n",
            "Try using .loc[row_indexer,col_indexer] = value instead\n",
            "\n",
            "See the caveats in the documentation: https://pandas.pydata.org/pandas-docs/stable/user_guide/indexing.html#returning-a-view-versus-a-copy\n",
            "\n",
            "C:\\Users\\hp\\AppData\\Local\\Temp\\ipykernel_35380\\3869898706.py:62: SettingWithCopyWarning:\n",
            "\n",
            "\n",
            "A value is trying to be set on a copy of a slice from a DataFrame.\n",
            "Try using .loc[row_indexer,col_indexer] = value instead\n",
            "\n",
            "See the caveats in the documentation: https://pandas.pydata.org/pandas-docs/stable/user_guide/indexing.html#returning-a-view-versus-a-copy\n",
            "\n",
            "C:\\Users\\hp\\AppData\\Local\\Temp\\ipykernel_35380\\3869898706.py:63: SettingWithCopyWarning:\n",
            "\n",
            "\n",
            "A value is trying to be set on a copy of a slice from a DataFrame.\n",
            "Try using .loc[row_indexer,col_indexer] = value instead\n",
            "\n",
            "See the caveats in the documentation: https://pandas.pydata.org/pandas-docs/stable/user_guide/indexing.html#returning-a-view-versus-a-copy\n",
            "\n",
            "C:\\Users\\hp\\AppData\\Local\\Temp\\ipykernel_35380\\3869898706.py:64: SettingWithCopyWarning:\n",
            "\n",
            "\n",
            "A value is trying to be set on a copy of a slice from a DataFrame.\n",
            "Try using .loc[row_indexer,col_indexer] = value instead\n",
            "\n",
            "See the caveats in the documentation: https://pandas.pydata.org/pandas-docs/stable/user_guide/indexing.html#returning-a-view-versus-a-copy\n",
            "\n",
            "C:\\Users\\hp\\AppData\\Local\\Temp\\ipykernel_35380\\3869898706.py:65: SettingWithCopyWarning:\n",
            "\n",
            "\n",
            "A value is trying to be set on a copy of a slice from a DataFrame.\n",
            "Try using .loc[row_indexer,col_indexer] = value instead\n",
            "\n",
            "See the caveats in the documentation: https://pandas.pydata.org/pandas-docs/stable/user_guide/indexing.html#returning-a-view-versus-a-copy\n",
            "\n"
          ]
        },
        {
          "data": {
            "application/vnd.plotly.v1+json": {
              "config": {
                "plotlyServerURL": "https://plot.ly"
              },
              "data": [
                {
                  "link": {
                    "source": [
                      11,
                      1,
                      24,
                      2,
                      11,
                      2,
                      11,
                      2,
                      11,
                      8,
                      21,
                      8,
                      24,
                      13,
                      1,
                      8,
                      21,
                      1,
                      1,
                      8,
                      8,
                      21,
                      21,
                      21,
                      21,
                      11,
                      24,
                      8,
                      24,
                      13,
                      1,
                      8,
                      24,
                      24,
                      1,
                      11,
                      8,
                      1,
                      11,
                      1,
                      1,
                      11,
                      8,
                      1,
                      24,
                      11,
                      24,
                      13,
                      1,
                      11,
                      8,
                      21,
                      21,
                      21,
                      1,
                      8,
                      1,
                      1,
                      8,
                      8,
                      1,
                      1,
                      11,
                      24,
                      13,
                      1,
                      11,
                      8,
                      11,
                      11,
                      24,
                      24,
                      24,
                      24,
                      11,
                      11,
                      11,
                      11,
                      11,
                      11,
                      11,
                      11,
                      11,
                      11,
                      2,
                      2,
                      9,
                      11,
                      9,
                      9,
                      11,
                      11,
                      11,
                      1,
                      11,
                      21,
                      11,
                      2,
                      11,
                      11,
                      24,
                      11,
                      24,
                      11,
                      24,
                      13,
                      11,
                      2,
                      11,
                      24,
                      13,
                      11,
                      2,
                      13,
                      11,
                      2,
                      11,
                      24,
                      13,
                      11,
                      11,
                      11,
                      24,
                      13,
                      11,
                      24,
                      13,
                      11,
                      21,
                      11,
                      21,
                      11,
                      24,
                      13,
                      13,
                      11,
                      24,
                      11,
                      24,
                      13,
                      11,
                      24,
                      11,
                      24,
                      13,
                      24,
                      13,
                      11
                    ],
                    "target": [
                      18,
                      24,
                      2,
                      11,
                      2,
                      6,
                      5,
                      11,
                      8,
                      21,
                      8,
                      24,
                      13,
                      3,
                      15,
                      21,
                      1,
                      18,
                      8,
                      8,
                      21,
                      21,
                      21,
                      21,
                      1,
                      24,
                      8,
                      24,
                      13,
                      3,
                      22,
                      24,
                      15,
                      1,
                      8,
                      8,
                      1,
                      18,
                      1,
                      1,
                      12,
                      8,
                      1,
                      24,
                      15,
                      24,
                      13,
                      3,
                      11,
                      8,
                      21,
                      21,
                      21,
                      1,
                      8,
                      1,
                      18,
                      8,
                      8,
                      22,
                      15,
                      23,
                      24,
                      13,
                      3,
                      11,
                      8,
                      1,
                      18,
                      18,
                      24,
                      10,
                      24,
                      18,
                      20,
                      11,
                      22,
                      11,
                      22,
                      22,
                      7,
                      20,
                      20,
                      2,
                      2,
                      7,
                      15,
                      20,
                      7,
                      15,
                      22,
                      22,
                      1,
                      11,
                      21,
                      11,
                      2,
                      11,
                      11,
                      24,
                      11,
                      24,
                      11,
                      24,
                      13,
                      3,
                      2,
                      11,
                      24,
                      13,
                      3,
                      2,
                      14,
                      3,
                      2,
                      14,
                      24,
                      13,
                      3,
                      11,
                      11,
                      24,
                      13,
                      3,
                      24,
                      13,
                      3,
                      21,
                      11,
                      21,
                      21,
                      24,
                      13,
                      13,
                      3,
                      24,
                      11,
                      24,
                      13,
                      3,
                      24,
                      11,
                      24,
                      13,
                      24,
                      13,
                      3,
                      11
                    ],
                    "value": [
                      2,
                      1,
                      4,
                      4,
                      3,
                      1,
                      1,
                      6,
                      2,
                      1,
                      1,
                      2,
                      1,
                      2,
                      1,
                      1,
                      1,
                      4,
                      2,
                      1,
                      1,
                      1,
                      1,
                      1,
                      1,
                      4,
                      1,
                      1,
                      1,
                      1,
                      3,
                      3,
                      2,
                      2,
                      5,
                      4,
                      1,
                      1,
                      3,
                      1,
                      2,
                      1,
                      1,
                      4,
                      1,
                      5,
                      4,
                      1,
                      1,
                      5,
                      2,
                      3,
                      6,
                      6,
                      3,
                      15,
                      1,
                      2,
                      1,
                      2,
                      4,
                      1,
                      7,
                      1,
                      1,
                      3,
                      2,
                      6,
                      13,
                      1,
                      1,
                      1,
                      1,
                      1,
                      1,
                      1,
                      4,
                      2,
                      13,
                      2,
                      1
                    ]
                  },
                  "node": {
                    "color": "blue",
                    "label": [
                      "autopayments/all/select",
                      "deps",
                      "fps/create",
                      "complete",
                      "depositclose/confirmation",
                      "cardtoaccount/create",
                      "info",
                      "cardtocardtransfer/create",
                      "accounts",
                      "news",
                      "depositallinclusive/new/create",
                      "main",
                      "depositclose/create",
                      "paymentconfirmation",
                      "fps/confirmation",
                      "operations",
                      "cardtocardtransfer/confirmation",
                      "purposeloanaddrequest/calculator",
                      "depsops",
                      "depositcommon/create",
                      "cardoperations",
                      "ops",
                      "dcards",
                      "approvedcreditforcard/list",
                      "paymentform"
                    ],
                    "line": {
                      "color": "black",
                      "width": 0.5
                    },
                    "pad": 15,
                    "thickness": 20
                  },
                  "type": "sankey"
                }
              ],
              "layout": {
                "template": {
                  "data": {
                    "bar": [
                      {
                        "error_x": {
                          "color": "#2a3f5f"
                        },
                        "error_y": {
                          "color": "#2a3f5f"
                        },
                        "marker": {
                          "line": {
                            "color": "#E5ECF6",
                            "width": 0.5
                          },
                          "pattern": {
                            "fillmode": "overlay",
                            "size": 10,
                            "solidity": 0.2
                          }
                        },
                        "type": "bar"
                      }
                    ],
                    "barpolar": [
                      {
                        "marker": {
                          "line": {
                            "color": "#E5ECF6",
                            "width": 0.5
                          },
                          "pattern": {
                            "fillmode": "overlay",
                            "size": 10,
                            "solidity": 0.2
                          }
                        },
                        "type": "barpolar"
                      }
                    ],
                    "carpet": [
                      {
                        "aaxis": {
                          "endlinecolor": "#2a3f5f",
                          "gridcolor": "white",
                          "linecolor": "white",
                          "minorgridcolor": "white",
                          "startlinecolor": "#2a3f5f"
                        },
                        "baxis": {
                          "endlinecolor": "#2a3f5f",
                          "gridcolor": "white",
                          "linecolor": "white",
                          "minorgridcolor": "white",
                          "startlinecolor": "#2a3f5f"
                        },
                        "type": "carpet"
                      }
                    ],
                    "choropleth": [
                      {
                        "colorbar": {
                          "outlinewidth": 0,
                          "ticks": ""
                        },
                        "type": "choropleth"
                      }
                    ],
                    "contour": [
                      {
                        "colorbar": {
                          "outlinewidth": 0,
                          "ticks": ""
                        },
                        "colorscale": [
                          [
                            0,
                            "#0d0887"
                          ],
                          [
                            0.1111111111111111,
                            "#46039f"
                          ],
                          [
                            0.2222222222222222,
                            "#7201a8"
                          ],
                          [
                            0.3333333333333333,
                            "#9c179e"
                          ],
                          [
                            0.4444444444444444,
                            "#bd3786"
                          ],
                          [
                            0.5555555555555556,
                            "#d8576b"
                          ],
                          [
                            0.6666666666666666,
                            "#ed7953"
                          ],
                          [
                            0.7777777777777778,
                            "#fb9f3a"
                          ],
                          [
                            0.8888888888888888,
                            "#fdca26"
                          ],
                          [
                            1,
                            "#f0f921"
                          ]
                        ],
                        "type": "contour"
                      }
                    ],
                    "contourcarpet": [
                      {
                        "colorbar": {
                          "outlinewidth": 0,
                          "ticks": ""
                        },
                        "type": "contourcarpet"
                      }
                    ],
                    "heatmap": [
                      {
                        "colorbar": {
                          "outlinewidth": 0,
                          "ticks": ""
                        },
                        "colorscale": [
                          [
                            0,
                            "#0d0887"
                          ],
                          [
                            0.1111111111111111,
                            "#46039f"
                          ],
                          [
                            0.2222222222222222,
                            "#7201a8"
                          ],
                          [
                            0.3333333333333333,
                            "#9c179e"
                          ],
                          [
                            0.4444444444444444,
                            "#bd3786"
                          ],
                          [
                            0.5555555555555556,
                            "#d8576b"
                          ],
                          [
                            0.6666666666666666,
                            "#ed7953"
                          ],
                          [
                            0.7777777777777778,
                            "#fb9f3a"
                          ],
                          [
                            0.8888888888888888,
                            "#fdca26"
                          ],
                          [
                            1,
                            "#f0f921"
                          ]
                        ],
                        "type": "heatmap"
                      }
                    ],
                    "heatmapgl": [
                      {
                        "colorbar": {
                          "outlinewidth": 0,
                          "ticks": ""
                        },
                        "colorscale": [
                          [
                            0,
                            "#0d0887"
                          ],
                          [
                            0.1111111111111111,
                            "#46039f"
                          ],
                          [
                            0.2222222222222222,
                            "#7201a8"
                          ],
                          [
                            0.3333333333333333,
                            "#9c179e"
                          ],
                          [
                            0.4444444444444444,
                            "#bd3786"
                          ],
                          [
                            0.5555555555555556,
                            "#d8576b"
                          ],
                          [
                            0.6666666666666666,
                            "#ed7953"
                          ],
                          [
                            0.7777777777777778,
                            "#fb9f3a"
                          ],
                          [
                            0.8888888888888888,
                            "#fdca26"
                          ],
                          [
                            1,
                            "#f0f921"
                          ]
                        ],
                        "type": "heatmapgl"
                      }
                    ],
                    "histogram": [
                      {
                        "marker": {
                          "pattern": {
                            "fillmode": "overlay",
                            "size": 10,
                            "solidity": 0.2
                          }
                        },
                        "type": "histogram"
                      }
                    ],
                    "histogram2d": [
                      {
                        "colorbar": {
                          "outlinewidth": 0,
                          "ticks": ""
                        },
                        "colorscale": [
                          [
                            0,
                            "#0d0887"
                          ],
                          [
                            0.1111111111111111,
                            "#46039f"
                          ],
                          [
                            0.2222222222222222,
                            "#7201a8"
                          ],
                          [
                            0.3333333333333333,
                            "#9c179e"
                          ],
                          [
                            0.4444444444444444,
                            "#bd3786"
                          ],
                          [
                            0.5555555555555556,
                            "#d8576b"
                          ],
                          [
                            0.6666666666666666,
                            "#ed7953"
                          ],
                          [
                            0.7777777777777778,
                            "#fb9f3a"
                          ],
                          [
                            0.8888888888888888,
                            "#fdca26"
                          ],
                          [
                            1,
                            "#f0f921"
                          ]
                        ],
                        "type": "histogram2d"
                      }
                    ],
                    "histogram2dcontour": [
                      {
                        "colorbar": {
                          "outlinewidth": 0,
                          "ticks": ""
                        },
                        "colorscale": [
                          [
                            0,
                            "#0d0887"
                          ],
                          [
                            0.1111111111111111,
                            "#46039f"
                          ],
                          [
                            0.2222222222222222,
                            "#7201a8"
                          ],
                          [
                            0.3333333333333333,
                            "#9c179e"
                          ],
                          [
                            0.4444444444444444,
                            "#bd3786"
                          ],
                          [
                            0.5555555555555556,
                            "#d8576b"
                          ],
                          [
                            0.6666666666666666,
                            "#ed7953"
                          ],
                          [
                            0.7777777777777778,
                            "#fb9f3a"
                          ],
                          [
                            0.8888888888888888,
                            "#fdca26"
                          ],
                          [
                            1,
                            "#f0f921"
                          ]
                        ],
                        "type": "histogram2dcontour"
                      }
                    ],
                    "mesh3d": [
                      {
                        "colorbar": {
                          "outlinewidth": 0,
                          "ticks": ""
                        },
                        "type": "mesh3d"
                      }
                    ],
                    "parcoords": [
                      {
                        "line": {
                          "colorbar": {
                            "outlinewidth": 0,
                            "ticks": ""
                          }
                        },
                        "type": "parcoords"
                      }
                    ],
                    "pie": [
                      {
                        "automargin": true,
                        "type": "pie"
                      }
                    ],
                    "scatter": [
                      {
                        "fillpattern": {
                          "fillmode": "overlay",
                          "size": 10,
                          "solidity": 0.2
                        },
                        "type": "scatter"
                      }
                    ],
                    "scatter3d": [
                      {
                        "line": {
                          "colorbar": {
                            "outlinewidth": 0,
                            "ticks": ""
                          }
                        },
                        "marker": {
                          "colorbar": {
                            "outlinewidth": 0,
                            "ticks": ""
                          }
                        },
                        "type": "scatter3d"
                      }
                    ],
                    "scattercarpet": [
                      {
                        "marker": {
                          "colorbar": {
                            "outlinewidth": 0,
                            "ticks": ""
                          }
                        },
                        "type": "scattercarpet"
                      }
                    ],
                    "scattergeo": [
                      {
                        "marker": {
                          "colorbar": {
                            "outlinewidth": 0,
                            "ticks": ""
                          }
                        },
                        "type": "scattergeo"
                      }
                    ],
                    "scattergl": [
                      {
                        "marker": {
                          "colorbar": {
                            "outlinewidth": 0,
                            "ticks": ""
                          }
                        },
                        "type": "scattergl"
                      }
                    ],
                    "scattermapbox": [
                      {
                        "marker": {
                          "colorbar": {
                            "outlinewidth": 0,
                            "ticks": ""
                          }
                        },
                        "type": "scattermapbox"
                      }
                    ],
                    "scatterpolar": [
                      {
                        "marker": {
                          "colorbar": {
                            "outlinewidth": 0,
                            "ticks": ""
                          }
                        },
                        "type": "scatterpolar"
                      }
                    ],
                    "scatterpolargl": [
                      {
                        "marker": {
                          "colorbar": {
                            "outlinewidth": 0,
                            "ticks": ""
                          }
                        },
                        "type": "scatterpolargl"
                      }
                    ],
                    "scatterternary": [
                      {
                        "marker": {
                          "colorbar": {
                            "outlinewidth": 0,
                            "ticks": ""
                          }
                        },
                        "type": "scatterternary"
                      }
                    ],
                    "surface": [
                      {
                        "colorbar": {
                          "outlinewidth": 0,
                          "ticks": ""
                        },
                        "colorscale": [
                          [
                            0,
                            "#0d0887"
                          ],
                          [
                            0.1111111111111111,
                            "#46039f"
                          ],
                          [
                            0.2222222222222222,
                            "#7201a8"
                          ],
                          [
                            0.3333333333333333,
                            "#9c179e"
                          ],
                          [
                            0.4444444444444444,
                            "#bd3786"
                          ],
                          [
                            0.5555555555555556,
                            "#d8576b"
                          ],
                          [
                            0.6666666666666666,
                            "#ed7953"
                          ],
                          [
                            0.7777777777777778,
                            "#fb9f3a"
                          ],
                          [
                            0.8888888888888888,
                            "#fdca26"
                          ],
                          [
                            1,
                            "#f0f921"
                          ]
                        ],
                        "type": "surface"
                      }
                    ],
                    "table": [
                      {
                        "cells": {
                          "fill": {
                            "color": "#EBF0F8"
                          },
                          "line": {
                            "color": "white"
                          }
                        },
                        "header": {
                          "fill": {
                            "color": "#C8D4E3"
                          },
                          "line": {
                            "color": "white"
                          }
                        },
                        "type": "table"
                      }
                    ]
                  },
                  "layout": {
                    "annotationdefaults": {
                      "arrowcolor": "#2a3f5f",
                      "arrowhead": 0,
                      "arrowwidth": 1
                    },
                    "autotypenumbers": "strict",
                    "coloraxis": {
                      "colorbar": {
                        "outlinewidth": 0,
                        "ticks": ""
                      }
                    },
                    "colorscale": {
                      "diverging": [
                        [
                          0,
                          "#8e0152"
                        ],
                        [
                          0.1,
                          "#c51b7d"
                        ],
                        [
                          0.2,
                          "#de77ae"
                        ],
                        [
                          0.3,
                          "#f1b6da"
                        ],
                        [
                          0.4,
                          "#fde0ef"
                        ],
                        [
                          0.5,
                          "#f7f7f7"
                        ],
                        [
                          0.6,
                          "#e6f5d0"
                        ],
                        [
                          0.7,
                          "#b8e186"
                        ],
                        [
                          0.8,
                          "#7fbc41"
                        ],
                        [
                          0.9,
                          "#4d9221"
                        ],
                        [
                          1,
                          "#276419"
                        ]
                      ],
                      "sequential": [
                        [
                          0,
                          "#0d0887"
                        ],
                        [
                          0.1111111111111111,
                          "#46039f"
                        ],
                        [
                          0.2222222222222222,
                          "#7201a8"
                        ],
                        [
                          0.3333333333333333,
                          "#9c179e"
                        ],
                        [
                          0.4444444444444444,
                          "#bd3786"
                        ],
                        [
                          0.5555555555555556,
                          "#d8576b"
                        ],
                        [
                          0.6666666666666666,
                          "#ed7953"
                        ],
                        [
                          0.7777777777777778,
                          "#fb9f3a"
                        ],
                        [
                          0.8888888888888888,
                          "#fdca26"
                        ],
                        [
                          1,
                          "#f0f921"
                        ]
                      ],
                      "sequentialminus": [
                        [
                          0,
                          "#0d0887"
                        ],
                        [
                          0.1111111111111111,
                          "#46039f"
                        ],
                        [
                          0.2222222222222222,
                          "#7201a8"
                        ],
                        [
                          0.3333333333333333,
                          "#9c179e"
                        ],
                        [
                          0.4444444444444444,
                          "#bd3786"
                        ],
                        [
                          0.5555555555555556,
                          "#d8576b"
                        ],
                        [
                          0.6666666666666666,
                          "#ed7953"
                        ],
                        [
                          0.7777777777777778,
                          "#fb9f3a"
                        ],
                        [
                          0.8888888888888888,
                          "#fdca26"
                        ],
                        [
                          1,
                          "#f0f921"
                        ]
                      ]
                    },
                    "colorway": [
                      "#636efa",
                      "#EF553B",
                      "#00cc96",
                      "#ab63fa",
                      "#FFA15A",
                      "#19d3f3",
                      "#FF6692",
                      "#B6E880",
                      "#FF97FF",
                      "#FECB52"
                    ],
                    "font": {
                      "color": "#2a3f5f"
                    },
                    "geo": {
                      "bgcolor": "white",
                      "lakecolor": "white",
                      "landcolor": "#E5ECF6",
                      "showlakes": true,
                      "showland": true,
                      "subunitcolor": "white"
                    },
                    "hoverlabel": {
                      "align": "left"
                    },
                    "hovermode": "closest",
                    "mapbox": {
                      "style": "light"
                    },
                    "paper_bgcolor": "white",
                    "plot_bgcolor": "#E5ECF6",
                    "polar": {
                      "angularaxis": {
                        "gridcolor": "white",
                        "linecolor": "white",
                        "ticks": ""
                      },
                      "bgcolor": "#E5ECF6",
                      "radialaxis": {
                        "gridcolor": "white",
                        "linecolor": "white",
                        "ticks": ""
                      }
                    },
                    "scene": {
                      "xaxis": {
                        "backgroundcolor": "#E5ECF6",
                        "gridcolor": "white",
                        "gridwidth": 2,
                        "linecolor": "white",
                        "showbackground": true,
                        "ticks": "",
                        "zerolinecolor": "white"
                      },
                      "yaxis": {
                        "backgroundcolor": "#E5ECF6",
                        "gridcolor": "white",
                        "gridwidth": 2,
                        "linecolor": "white",
                        "showbackground": true,
                        "ticks": "",
                        "zerolinecolor": "white"
                      },
                      "zaxis": {
                        "backgroundcolor": "#E5ECF6",
                        "gridcolor": "white",
                        "gridwidth": 2,
                        "linecolor": "white",
                        "showbackground": true,
                        "ticks": "",
                        "zerolinecolor": "white"
                      }
                    },
                    "shapedefaults": {
                      "line": {
                        "color": "#2a3f5f"
                      }
                    },
                    "ternary": {
                      "aaxis": {
                        "gridcolor": "white",
                        "linecolor": "white",
                        "ticks": ""
                      },
                      "baxis": {
                        "gridcolor": "white",
                        "linecolor": "white",
                        "ticks": ""
                      },
                      "bgcolor": "#E5ECF6",
                      "caxis": {
                        "gridcolor": "white",
                        "linecolor": "white",
                        "ticks": ""
                      }
                    },
                    "title": {
                      "x": 0.05
                    },
                    "xaxis": {
                      "automargin": true,
                      "gridcolor": "white",
                      "linecolor": "white",
                      "ticks": "",
                      "title": {
                        "standoff": 15
                      },
                      "zerolinecolor": "white",
                      "zerolinewidth": 2
                    },
                    "yaxis": {
                      "automargin": true,
                      "gridcolor": "white",
                      "linecolor": "white",
                      "ticks": "",
                      "title": {
                        "standoff": 15
                      },
                      "zerolinecolor": "white",
                      "zerolinewidth": 2
                    }
                  }
                }
              }
            }
          },
          "metadata": {},
          "output_type": "display_data"
        }
      ],
      "source": [
        "super_function(df, 5, 'Количество переходов с предыдущей страницы на следующую')"
      ]
    },
    {
      "cell_type": "code",
      "execution_count": 294,
      "metadata": {
        "colab": {
          "base_uri": "https://localhost:8080/",
          "height": 542
        },
        "id": "1sYPSN-y7fkw",
        "outputId": "79aad4ad-7c86-4849-f312-c9a0341a7b91"
      },
      "outputs": [
        {
          "data": {
            "text/html": [
              "<html>\n",
              "<head><meta charset=\"utf-8\" /></head>\n",
              "<body>\n",
              "    <div>            <script src=\"https://cdnjs.cloudflare.com/ajax/libs/mathjax/2.7.5/MathJax.js?config=TeX-AMS-MML_SVG\"></script><script type=\"text/javascript\">if (window.MathJax) {MathJax.Hub.Config({SVG: {font: \"STIX-Web\"}});}</script>                <script type=\"text/javascript\">window.PlotlyConfig = {MathJaxConfig: 'local'};</script>\n",
              "        <script src=\"https://cdn.plot.ly/plotly-2.8.3.min.js\"></script>                <div id=\"06ca44b9-5430-49e3-b062-8ad63e6a51eb\" class=\"plotly-graph-div\" style=\"height:525px; width:100%;\"></div>            <script type=\"text/javascript\">                                    window.PLOTLYENV=window.PLOTLYENV || {};                                    if (document.getElementById(\"06ca44b9-5430-49e3-b062-8ad63e6a51eb\")) {                    Plotly.newPlot(                        \"06ca44b9-5430-49e3-b062-8ad63e6a51eb\",                        [{\"link\":{\"source\":[42,42,20,20,50,20,44,63,63,59,20,38,23,50,20,17,17,20,17,20,20,20,4,61,4,17,20,4,61,20,20,20,1,58,46,51,50,51,29,51,50,20,1,58,20,65,16,30,12,47,66,1,58,46,1,58,46,65,12,47,66,65,20,50,38,38,20,4,61,1,58,46,20,1,58,46,53,50,50,38,50,38,53,19,53,50,38,20,12,65,12,47,66,20,20,20,1,58,46,4,61,20,1,58,20,65,12,47,66,65,12,47,66,20,53,19,44,63,20,44,44,63,19,50,19,44,63,59,19,7,19,44,19,20,20,13,20,38,65,12,47,66,12,65,20,51,29,32,51,51,29,32,51,51,1,20,19,20,1,51,20,1,58,46,12,47,12,47,66,20,20,1,58,46,20,16,30,20,9,19,7,20,20,19,20,1,58,46,20,20,19,7,20,19,7,20,20,1,58,46,20,19,44,63,59,20,1,58,46,20,9,19,20,38,20,38,1,58,58,46,1,58,46,20,44,63,59,20,1,58,46,1,58,46,20,56,20,1,58,46,50,50,19,20,56,50,53,20,9,20,20,1,58,46,50,38,38,20,56,50,20,53,1,58,46,19,19,44,19,7,1,58,46,19,7,1,58,46,44,63,59,19,44,63,20,19,50,19,44,63,59,19,44,63,59,19,44,63,20,36,4,61,34,4,61,34,67,4,61,34,67,20,65,16,30,65,20,12,47,66,65,31,65,31,65,31,20,65,31,24,20,65,31,24,20,1,20,51,29,32,20,1,20,1,58,46,20,20,20,20,50,65,20,17,20,51,29,51,20,1,58,46,1,58,46,20,1,58,46,20,1,58,46,1,58,20,17,20,17,45,20,1,58,46,20,20,36,20,20,17,20,1,58,46,20,17,20,4,61,4,61,20,38,1,58,46,36,20,38,20,17,4,20,1,58,20,17,45,17,13,17,17,13,13,13,20,17,17,20,38,20,52,20,38,20,1,58,58,58,46,20,20,20,53,19,19,1,58,46,19,53,19,53,19,53,20,20,53,19,20,53,56,53,1,58,46,1,58,46,50,19,53,43,20,43,1,58,46,50,20,43,50,50,43,20,43,43,43,50,53,50,20,50,38,38,50,20,19,9,53,20,53,20,20,17,17,1,58,1,20,38,38,20,38,1,58,46,20,20,20,20,20,1,58,46,53,53,1,53,20,9,19,20,9,19,53,19,44,20,16,30,20,12,47,12,47,50,12,47,66,20,31,24,20,38,1,58,46,56,1,58,46,1,58,46,1,58,46,1,58,46,1,58,46,4,61,17,45,20,20,38,20,52,53,52,1,58,46,1,1,58,46,1,1,58,46,1,1,58,46,1,50,38,50,38,38,50,20,38,53,1,58,46,20,38,17,20,38,1,58,46,1,20,1,58,46,20,1,58,46,20,20,20,51,29,32],\"target\":[42,20,11,50,60,48,63,63,59,20,38,37,50,20,17,17,39,17,20,10,6,4,61,4,17,20,4,61,20,20,20,1,58,46,51,50,51,29,51,50,20,1,58,46,65,16,27,0,47,66,0,58,46,0,58,46,0,12,47,66,65,20,28,38,38,20,4,61,0,58,46,53,1,58,46,53,50,50,38,50,38,53,19,53,50,38,38,12,65,12,47,66,20,49,17,1,58,46,4,61,20,1,58,46,65,12,47,66,65,12,47,66,65,48,19,48,63,20,48,48,63,19,50,19,48,63,59,19,57,19,48,19,48,52,0,20,38,18,12,47,66,12,65,20,18,29,32,51,51,29,32,51,51,1,20,19,20,1,51,0,1,58,46,12,47,12,47,66,20,20,0,58,46,0,16,27,0,9,19,57,20,48,19,48,1,58,46,20,20,19,57,20,19,57,20,20,1,58,46,20,19,48,63,59,20,1,58,46,20,9,19,20,38,20,38,1,58,58,46,1,58,46,20,48,63,59,20,0,58,46,0,58,46,0,0,0,1,58,46,50,50,19,20,0,0,53,19,9,20,48,0,58,46,50,38,38,20,0,50,53,53,1,58,46,19,48,48,19,57,1,58,46,19,57,1,58,46,48,63,59,19,48,63,20,19,50,19,48,63,59,19,48,63,59,19,48,63,59,55,4,61,34,4,61,34,22,4,61,34,22,0,65,16,27,65,20,12,47,66,65,31,65,31,65,31,20,65,31,21,20,65,31,21,20,1,58,51,29,32,20,1,20,1,58,46,20,18,15,20,50,65,20,17,20,51,29,51,20,1,58,46,1,58,46,20,1,58,46,20,1,58,46,1,58,46,17,20,17,45,5,1,58,46,20,20,55,20,20,17,20,1,58,46,20,17,20,4,61,4,61,0,38,1,58,46,55,20,38,20,17,4,61,1,58,46,17,45,17,13,17,17,13,3,13,25,17,40,14,38,20,52,20,38,20,1,58,58,58,46,20,20,20,2,19,19,1,58,46,19,53,19,53,19,53,35,20,53,8,20,53,0,53,1,58,46,1,58,46,50,19,53,43,26,43,1,58,46,50,54,43,50,0,43,20,43,55,55,55,53,50,0,15,38,0,50,15,19,9,53,20,53,48,53,17,17,1,58,1,20,38,38,20,38,1,58,46,20,20,20,20,20,1,58,46,53,53,1,53,50,9,19,20,9,19,53,19,48,48,16,27,0,12,47,12,47,0,12,47,66,20,31,21,0,38,1,58,46,33,1,58,46,1,58,46,1,58,46,1,58,46,1,58,46,4,61,0,45,5,17,38,20,52,53,52,0,58,46,0,1,58,46,0,0,58,46,1,0,58,46,1,18,38,50,38,38,18,38,38,53,1,58,46,20,38,17,20,38,1,58,46,1,50,1,58,46,0,55,58,46,20,55,55,51,29,32,20],\"value\":[1,1,3,1,5,1,1,1,1,1,4,1,1,2,1,1,3,3,1,1,1,5,1,1,2,1,5,3,1,7,2,1,5,1,2,3,2,4,1,1,1,1,1,1,1,1,1,1,3,5,1,1,2,4,1,1,2,1,1,1,1,1,1,1,2,3,5,1,1,2,2,5,2,3,2,4,3,1,1,5,1,1,2,1,4,1,4,2,1,1,1,1,6,2,2,3,1,1,1,1,1,1,1,1,1,1,3,1,1,1,7,1,9,1,2,2,5,4,3,3,3,3,1,8,1,2,2,4,3,15,3,2,1,1,1,1,1,2,1,1,1,1,1,5,1,1,1,3,5,8,5,1,1,1,1,1,1,3,1,4,1,2,1,2,1,9,5,6,1,23,2,1,1,1,1,3,1,1,24,1,3,3,1,1,1,7,2,2,7,1,3,4,1,1,1,1]},\"node\":{\"color\":\"blue\",\"label\":[\"/secure/operations.aspx\",\"/secure/paymentform.aspx\",\"/secure/viewsettings.aspx\",\"/secure/communication/dialog.aspx\",\"/secure/government/search.aspx\",\"/secure/bonusprogram/mkbbonus/compensate/confirmation.aspx\",\"/secure/autopayments/all/select.aspx\",\"/secure/depositclose/confirmation.aspx\",\"/secure/approvedcreditforcard/list.aspx\",\"/secure/depsops.aspx\",\"/secure/autopayments/all/list.aspx\",\"/secure/cardactivation/create.aspx\",\"/secure/paymentservices/create.aspx\",\"/secure/communication/messageslist.aspx\",\"/secure/communication/messageslistmobile.aspx\",\"/secure/moscowregionhomepay/create.aspx\",\"/secure/singlepaymentdocument/create.aspx\",\"/secure/bonusprogram/mkbbonus/main.aspx\",\"/secure/news.aspx\",\"/secure/deps.aspx\",\"/secure/main.aspx\",\"/secure/moscowenergomarket/confirmation.aspx\",\"/secure/stateservices/confirmation.aspx\",\"/secure/expenseslimits/complete.aspx\",\"/secure/moscowenergomarket/complete.aspx\",\"/secure/communication/feedback.aspx\",\"/secure/servicepackages/list.aspx\",\"/secure/singlepaymentdocument/confirmation.aspx\",\"/secure/cardtoaccount/create.aspx\",\"/secure/cardtocardtransfer/confirmation.aspx\",\"/secure/singlepaymentdocument/complete.aspx\",\"/secure/moscowenergomarket/create.aspx\",\"/secure/cardtocardtransfer/complete.aspx\",\"/secure/intrabank/create.aspx\",\"/secure/stateservices/create.aspx\",\"/secure/opensavingsaccount/create.aspx\",\"/secure/fps/complete.aspx\",\"/secure/expenseslimits/create.aspx\",\"/secure/cardoperations.aspx\",\"/secure/bonusprogram/compensate/withdrawalcash.aspx\",\"/secure/mkbtravel/main.aspx\",\"/secure/systemsettings/selectsysoper.aspx\",\"/secure/activation.aspx\",\"/secure/loans.aspx\",\"/secure/depositcommon/create.aspx\",\"/secure/bonusprogram/mkbbonus/compensate/create.aspx\",\"/secure/paymentcomplete.aspx\",\"/secure/paymentservices/confirmation.aspx\",\"/secure/depositallinclusive/new/create.aspx\",\"/secure/activatesecurecodescard/create.aspx\",\"/secure/dcards.aspx\",\"/secure/cardtocardtransfer/create.aspx\",\"/secure/ops.aspx\",\"/secure/accounts.aspx\",\"/secure/repaymentofcreditsways.aspx\",\"/secure/fps/create.aspx\",\"/secure/intrabank/complete.aspx\",\"/secure/depositclose/create.aspx\",\"/secure/paymentconfirmation.aspx\",\"/secure/depositcommon/complete.aspx\",\"/secure/cardsmsinforming/disconnect/create.aspx\",\"/secure/government/smav/taxview.aspx\",\"/secure/autopayments/list.aspx\",\"/secure/depositcommon/confirmation.aspx\",\"/secure/userblock.aspx\",\"/secure/directory.aspx\",\"/secure/paymentservices/complete.aspx\",\"/secure/stateservices/complete.aspx\"],\"line\":{\"color\":\"black\",\"width\":0.5},\"pad\":15,\"thickness\":20},\"type\":\"sankey\"}],                        {\"template\":{\"data\":{\"bar\":[{\"error_x\":{\"color\":\"#2a3f5f\"},\"error_y\":{\"color\":\"#2a3f5f\"},\"marker\":{\"line\":{\"color\":\"#E5ECF6\",\"width\":0.5},\"pattern\":{\"fillmode\":\"overlay\",\"size\":10,\"solidity\":0.2}},\"type\":\"bar\"}],\"barpolar\":[{\"marker\":{\"line\":{\"color\":\"#E5ECF6\",\"width\":0.5},\"pattern\":{\"fillmode\":\"overlay\",\"size\":10,\"solidity\":0.2}},\"type\":\"barpolar\"}],\"carpet\":[{\"aaxis\":{\"endlinecolor\":\"#2a3f5f\",\"gridcolor\":\"white\",\"linecolor\":\"white\",\"minorgridcolor\":\"white\",\"startlinecolor\":\"#2a3f5f\"},\"baxis\":{\"endlinecolor\":\"#2a3f5f\",\"gridcolor\":\"white\",\"linecolor\":\"white\",\"minorgridcolor\":\"white\",\"startlinecolor\":\"#2a3f5f\"},\"type\":\"carpet\"}],\"choropleth\":[{\"colorbar\":{\"outlinewidth\":0,\"ticks\":\"\"},\"type\":\"choropleth\"}],\"contour\":[{\"colorbar\":{\"outlinewidth\":0,\"ticks\":\"\"},\"colorscale\":[[0.0,\"#0d0887\"],[0.1111111111111111,\"#46039f\"],[0.2222222222222222,\"#7201a8\"],[0.3333333333333333,\"#9c179e\"],[0.4444444444444444,\"#bd3786\"],[0.5555555555555556,\"#d8576b\"],[0.6666666666666666,\"#ed7953\"],[0.7777777777777778,\"#fb9f3a\"],[0.8888888888888888,\"#fdca26\"],[1.0,\"#f0f921\"]],\"type\":\"contour\"}],\"contourcarpet\":[{\"colorbar\":{\"outlinewidth\":0,\"ticks\":\"\"},\"type\":\"contourcarpet\"}],\"heatmap\":[{\"colorbar\":{\"outlinewidth\":0,\"ticks\":\"\"},\"colorscale\":[[0.0,\"#0d0887\"],[0.1111111111111111,\"#46039f\"],[0.2222222222222222,\"#7201a8\"],[0.3333333333333333,\"#9c179e\"],[0.4444444444444444,\"#bd3786\"],[0.5555555555555556,\"#d8576b\"],[0.6666666666666666,\"#ed7953\"],[0.7777777777777778,\"#fb9f3a\"],[0.8888888888888888,\"#fdca26\"],[1.0,\"#f0f921\"]],\"type\":\"heatmap\"}],\"heatmapgl\":[{\"colorbar\":{\"outlinewidth\":0,\"ticks\":\"\"},\"colorscale\":[[0.0,\"#0d0887\"],[0.1111111111111111,\"#46039f\"],[0.2222222222222222,\"#7201a8\"],[0.3333333333333333,\"#9c179e\"],[0.4444444444444444,\"#bd3786\"],[0.5555555555555556,\"#d8576b\"],[0.6666666666666666,\"#ed7953\"],[0.7777777777777778,\"#fb9f3a\"],[0.8888888888888888,\"#fdca26\"],[1.0,\"#f0f921\"]],\"type\":\"heatmapgl\"}],\"histogram\":[{\"marker\":{\"pattern\":{\"fillmode\":\"overlay\",\"size\":10,\"solidity\":0.2}},\"type\":\"histogram\"}],\"histogram2d\":[{\"colorbar\":{\"outlinewidth\":0,\"ticks\":\"\"},\"colorscale\":[[0.0,\"#0d0887\"],[0.1111111111111111,\"#46039f\"],[0.2222222222222222,\"#7201a8\"],[0.3333333333333333,\"#9c179e\"],[0.4444444444444444,\"#bd3786\"],[0.5555555555555556,\"#d8576b\"],[0.6666666666666666,\"#ed7953\"],[0.7777777777777778,\"#fb9f3a\"],[0.8888888888888888,\"#fdca26\"],[1.0,\"#f0f921\"]],\"type\":\"histogram2d\"}],\"histogram2dcontour\":[{\"colorbar\":{\"outlinewidth\":0,\"ticks\":\"\"},\"colorscale\":[[0.0,\"#0d0887\"],[0.1111111111111111,\"#46039f\"],[0.2222222222222222,\"#7201a8\"],[0.3333333333333333,\"#9c179e\"],[0.4444444444444444,\"#bd3786\"],[0.5555555555555556,\"#d8576b\"],[0.6666666666666666,\"#ed7953\"],[0.7777777777777778,\"#fb9f3a\"],[0.8888888888888888,\"#fdca26\"],[1.0,\"#f0f921\"]],\"type\":\"histogram2dcontour\"}],\"mesh3d\":[{\"colorbar\":{\"outlinewidth\":0,\"ticks\":\"\"},\"type\":\"mesh3d\"}],\"parcoords\":[{\"line\":{\"colorbar\":{\"outlinewidth\":0,\"ticks\":\"\"}},\"type\":\"parcoords\"}],\"pie\":[{\"automargin\":true,\"type\":\"pie\"}],\"scatter\":[{\"marker\":{\"colorbar\":{\"outlinewidth\":0,\"ticks\":\"\"}},\"type\":\"scatter\"}],\"scatter3d\":[{\"line\":{\"colorbar\":{\"outlinewidth\":0,\"ticks\":\"\"}},\"marker\":{\"colorbar\":{\"outlinewidth\":0,\"ticks\":\"\"}},\"type\":\"scatter3d\"}],\"scattercarpet\":[{\"marker\":{\"colorbar\":{\"outlinewidth\":0,\"ticks\":\"\"}},\"type\":\"scattercarpet\"}],\"scattergeo\":[{\"marker\":{\"colorbar\":{\"outlinewidth\":0,\"ticks\":\"\"}},\"type\":\"scattergeo\"}],\"scattergl\":[{\"marker\":{\"colorbar\":{\"outlinewidth\":0,\"ticks\":\"\"}},\"type\":\"scattergl\"}],\"scattermapbox\":[{\"marker\":{\"colorbar\":{\"outlinewidth\":0,\"ticks\":\"\"}},\"type\":\"scattermapbox\"}],\"scatterpolar\":[{\"marker\":{\"colorbar\":{\"outlinewidth\":0,\"ticks\":\"\"}},\"type\":\"scatterpolar\"}],\"scatterpolargl\":[{\"marker\":{\"colorbar\":{\"outlinewidth\":0,\"ticks\":\"\"}},\"type\":\"scatterpolargl\"}],\"scatterternary\":[{\"marker\":{\"colorbar\":{\"outlinewidth\":0,\"ticks\":\"\"}},\"type\":\"scatterternary\"}],\"surface\":[{\"colorbar\":{\"outlinewidth\":0,\"ticks\":\"\"},\"colorscale\":[[0.0,\"#0d0887\"],[0.1111111111111111,\"#46039f\"],[0.2222222222222222,\"#7201a8\"],[0.3333333333333333,\"#9c179e\"],[0.4444444444444444,\"#bd3786\"],[0.5555555555555556,\"#d8576b\"],[0.6666666666666666,\"#ed7953\"],[0.7777777777777778,\"#fb9f3a\"],[0.8888888888888888,\"#fdca26\"],[1.0,\"#f0f921\"]],\"type\":\"surface\"}],\"table\":[{\"cells\":{\"fill\":{\"color\":\"#EBF0F8\"},\"line\":{\"color\":\"white\"}},\"header\":{\"fill\":{\"color\":\"#C8D4E3\"},\"line\":{\"color\":\"white\"}},\"type\":\"table\"}]},\"layout\":{\"annotationdefaults\":{\"arrowcolor\":\"#2a3f5f\",\"arrowhead\":0,\"arrowwidth\":1},\"autotypenumbers\":\"strict\",\"coloraxis\":{\"colorbar\":{\"outlinewidth\":0,\"ticks\":\"\"}},\"colorscale\":{\"diverging\":[[0,\"#8e0152\"],[0.1,\"#c51b7d\"],[0.2,\"#de77ae\"],[0.3,\"#f1b6da\"],[0.4,\"#fde0ef\"],[0.5,\"#f7f7f7\"],[0.6,\"#e6f5d0\"],[0.7,\"#b8e186\"],[0.8,\"#7fbc41\"],[0.9,\"#4d9221\"],[1,\"#276419\"]],\"sequential\":[[0.0,\"#0d0887\"],[0.1111111111111111,\"#46039f\"],[0.2222222222222222,\"#7201a8\"],[0.3333333333333333,\"#9c179e\"],[0.4444444444444444,\"#bd3786\"],[0.5555555555555556,\"#d8576b\"],[0.6666666666666666,\"#ed7953\"],[0.7777777777777778,\"#fb9f3a\"],[0.8888888888888888,\"#fdca26\"],[1.0,\"#f0f921\"]],\"sequentialminus\":[[0.0,\"#0d0887\"],[0.1111111111111111,\"#46039f\"],[0.2222222222222222,\"#7201a8\"],[0.3333333333333333,\"#9c179e\"],[0.4444444444444444,\"#bd3786\"],[0.5555555555555556,\"#d8576b\"],[0.6666666666666666,\"#ed7953\"],[0.7777777777777778,\"#fb9f3a\"],[0.8888888888888888,\"#fdca26\"],[1.0,\"#f0f921\"]]},\"colorway\":[\"#636efa\",\"#EF553B\",\"#00cc96\",\"#ab63fa\",\"#FFA15A\",\"#19d3f3\",\"#FF6692\",\"#B6E880\",\"#FF97FF\",\"#FECB52\"],\"font\":{\"color\":\"#2a3f5f\"},\"geo\":{\"bgcolor\":\"white\",\"lakecolor\":\"white\",\"landcolor\":\"#E5ECF6\",\"showlakes\":true,\"showland\":true,\"subunitcolor\":\"white\"},\"hoverlabel\":{\"align\":\"left\"},\"hovermode\":\"closest\",\"mapbox\":{\"style\":\"light\"},\"paper_bgcolor\":\"white\",\"plot_bgcolor\":\"#E5ECF6\",\"polar\":{\"angularaxis\":{\"gridcolor\":\"white\",\"linecolor\":\"white\",\"ticks\":\"\"},\"bgcolor\":\"#E5ECF6\",\"radialaxis\":{\"gridcolor\":\"white\",\"linecolor\":\"white\",\"ticks\":\"\"}},\"scene\":{\"xaxis\":{\"backgroundcolor\":\"#E5ECF6\",\"gridcolor\":\"white\",\"gridwidth\":2,\"linecolor\":\"white\",\"showbackground\":true,\"ticks\":\"\",\"zerolinecolor\":\"white\"},\"yaxis\":{\"backgroundcolor\":\"#E5ECF6\",\"gridcolor\":\"white\",\"gridwidth\":2,\"linecolor\":\"white\",\"showbackground\":true,\"ticks\":\"\",\"zerolinecolor\":\"white\"},\"zaxis\":{\"backgroundcolor\":\"#E5ECF6\",\"gridcolor\":\"white\",\"gridwidth\":2,\"linecolor\":\"white\",\"showbackground\":true,\"ticks\":\"\",\"zerolinecolor\":\"white\"}},\"shapedefaults\":{\"line\":{\"color\":\"#2a3f5f\"}},\"ternary\":{\"aaxis\":{\"gridcolor\":\"white\",\"linecolor\":\"white\",\"ticks\":\"\"},\"baxis\":{\"gridcolor\":\"white\",\"linecolor\":\"white\",\"ticks\":\"\"},\"bgcolor\":\"#E5ECF6\",\"caxis\":{\"gridcolor\":\"white\",\"linecolor\":\"white\",\"ticks\":\"\"}},\"title\":{\"x\":0.05},\"xaxis\":{\"automargin\":true,\"gridcolor\":\"white\",\"linecolor\":\"white\",\"ticks\":\"\",\"title\":{\"standoff\":15},\"zerolinecolor\":\"white\",\"zerolinewidth\":2},\"yaxis\":{\"automargin\":true,\"gridcolor\":\"white\",\"linecolor\":\"white\",\"ticks\":\"\",\"title\":{\"standoff\":15},\"zerolinecolor\":\"white\",\"zerolinewidth\":2}}}},                        {\"responsive\": true}                    ).then(function(){\n",
              "                            \n",
              "var gd = document.getElementById('06ca44b9-5430-49e3-b062-8ad63e6a51eb');\n",
              "var x = new MutationObserver(function (mutations, observer) {{\n",
              "        var display = window.getComputedStyle(gd).display;\n",
              "        if (!display || display === 'none') {{\n",
              "            console.log([gd, 'removed!']);\n",
              "            Plotly.purge(gd);\n",
              "            observer.disconnect();\n",
              "        }}\n",
              "}});\n",
              "\n",
              "// Listen for the removal of the full notebook cells\n",
              "var notebookContainer = gd.closest('#notebook-container');\n",
              "if (notebookContainer) {{\n",
              "    x.observe(notebookContainer, {childList: true});\n",
              "}}\n",
              "\n",
              "// Listen for the clearing of the current output cell\n",
              "var outputEl = gd.closest('.output');\n",
              "if (outputEl) {{\n",
              "    x.observe(outputEl, {childList: true});\n",
              "}}\n",
              "\n",
              "                        })                };                            </script>        </div>\n",
              "</body>\n",
              "</html>"
            ]
          },
          "metadata": {},
          "output_type": "display_data"
        }
      ],
      "source": [
        "import warnings\n",
        "\n",
        "import pandas as pd\n",
        "from pandas.core.common import SettingWithCopyWarning\n",
        "\n",
        "warnings.simplefilter(action=\"ignore\", category=SettingWithCopyWarning)\n",
        "\n",
        "super_function(df, 100, 'Количество уникальных пользователей')"
      ]
    },
    {
      "cell_type": "markdown",
      "metadata": {
        "id": "54CjFAEGD_dG"
      },
      "source": [
        "**Сделать отдельный фильтр:**\n",
        "\n",
        "1. Рандомное количество клиентов \n",
        "2. Циклы \n",
        "3. Перезагрузки страниц \n",
        "\n",
        "\n",
        "План: \n",
        "1. Найти слабые места с визуальной точки зрения \n",
        "2. Найти слабые места с точки зрения метрик \n",
        "\n",
        "Идеи: "
      ]
    },
    {
      "cell_type": "code",
      "execution_count": null,
      "metadata": {
        "id": "QBv_XUgLD_Qt"
      },
      "outputs": [],
      "source": []
    },
    {
      "cell_type": "code",
      "execution_count": null,
      "metadata": {
        "colab": {
          "base_uri": "https://localhost:8080/",
          "height": 131
        },
        "id": "O9v_vUhSyQ9o",
        "outputId": "3fb56a11-8c00-49f3-e562-14a63510c14e"
      },
      "outputs": [
        {
          "ename": "SyntaxError",
          "evalue": "ignored",
          "output_type": "error",
          "traceback": [
            "\u001b[0;36m  File \u001b[0;32m\"<ipython-input-51-a084e29e92e9>\"\u001b[0;36m, line \u001b[0;32m1\u001b[0m\n\u001b[0;31m    1. Рандомное количество количество\u001b[0m\n\u001b[0m               ^\u001b[0m\n\u001b[0;31mSyntaxError\u001b[0m\u001b[0;31m:\u001b[0m invalid syntax\n"
          ]
        }
      ],
      "source": [
        "1. Рандомное количество количество"
      ]
    },
    {
      "cell_type": "code",
      "execution_count": null,
      "metadata": {
        "id": "98EOkoocD-vE"
      },
      "outputs": [],
      "source": []
    }
  ],
  "metadata": {
    "colab": {
      "provenance": []
    },
    "kernelspec": {
      "display_name": "Python 3.10.5 64-bit",
      "language": "python",
      "name": "python3"
    },
    "language_info": {
      "codemirror_mode": {
        "name": "ipython",
        "version": 3
      },
      "file_extension": ".py",
      "mimetype": "text/x-python",
      "name": "python",
      "nbconvert_exporter": "python",
      "pygments_lexer": "ipython3",
      "version": "3.10.5"
    },
    "vscode": {
      "interpreter": {
        "hash": "63963b3f4c440940f0b94a3100916033a226cb4f45979123153792d60aa56d6a"
      }
    }
  },
  "nbformat": 4,
  "nbformat_minor": 0
}
